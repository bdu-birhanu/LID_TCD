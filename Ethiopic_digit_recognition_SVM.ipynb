{
 "cells": [
  {
   "cell_type": "code",
   "execution_count": 1,
   "metadata": {},
   "outputs": [],
   "source": [
    "import glob\n",
    "import numpy as np\n",
    "from PIL import Image\n",
    "from sklearn.utils import shuffle\n",
    "import matplotlib.pyplot as plt\n",
    "import cv2\n",
    "from sklearn.model_selection import train_test_split\n",
    "from sklearn.metrics import classification_report, confusion_matrix"
   ]
  },
  {
   "cell_type": "code",
   "execution_count": 2,
   "metadata": {},
   "outputs": [
    {
     "name": "stdout",
     "output_type": "stream",
     "text": [
      "400\n"
     ]
    }
   ],
   "source": [
    "Path = '/media/nbm/New Volume/Msc_courses/ML-BDU/SWE_PPT/Sample_codes/Image-ethio-digit/'\n",
    "imagePath = sorted(glob.glob(Path + '/*.bin.png'))\n",
    "textPath = sorted(glob.glob(Path + '/*.gt.txt'))\n",
    "print (len(imagePath))\n",
    "out = open(\"/media/nbm/New Volume/Msc_courses/ML-BDU/SWE_PPT/Sample_codes/Image-ethio-digit/digit.txt\", \"w\")\n",
    "for name in textPath:\n",
    "    with open(name) as f:\n",
    "        for line in f:\n",
    "            #if line in (special) or line == \" \": continue\n",
    "            #print(line.decode('utf-8').split())\n",
    "            out.write(line)\n",
    "out.close()\n",
    "\n",
    "\n"
   ]
  },
  {
   "cell_type": "code",
   "execution_count": 3,
   "metadata": {},
   "outputs": [],
   "source": [
    "text =open('/media/nbm/New Volume/Msc_courses/ML-BDU/SWE_PPT/Sample_codes/Image-ethio-digit/digit.txt','r').read().split('\\n')"
   ]
  },
  {
   "cell_type": "code",
   "execution_count": 5,
   "metadata": {},
   "outputs": [],
   "source": [
    "img_rows=28\n",
    "img_cols=28\n",
    "newsize=(img_rows, img_cols)"
   ]
  },
  {
   "cell_type": "code",
   "execution_count": 6,
   "metadata": {},
   "outputs": [],
   "source": [
    "def im_resize(myimage):\n",
    "    myimage = cv2.resize(myimage, newsize)\n",
    "    return myimage"
   ]
  },
  {
   "cell_type": "code",
   "execution_count": 7,
   "metadata": {},
   "outputs": [],
   "source": [
    "image = [np.array(Image.open(i), 'f') for i in imagePath]"
   ]
  },
  {
   "cell_type": "code",
   "execution_count": 9,
   "metadata": {},
   "outputs": [
    {
     "data": {
      "text/plain": [
       "(63, 42)"
      ]
     },
     "execution_count": 9,
     "metadata": {},
     "output_type": "execute_result"
    }
   ],
   "source": [
    "image[5].shape"
   ]
  },
  {
   "cell_type": "code",
   "execution_count": 10,
   "metadata": {},
   "outputs": [],
   "source": [
    "img = []\n",
    "for i in image:\n",
    "    img.append(im_resize(i))  \n"
   ]
  },
  {
   "cell_type": "code",
   "execution_count": 11,
   "metadata": {},
   "outputs": [],
   "source": [
    "im_array=np.array(img)"
   ]
  },
  {
   "cell_type": "code",
   "execution_count": 13,
   "metadata": {},
   "outputs": [
    {
     "data": {
      "text/plain": [
       "(28, 28)"
      ]
     },
     "execution_count": 13,
     "metadata": {},
     "output_type": "execute_result"
    }
   ],
   "source": [
    "im_array[5].shape"
   ]
  },
  {
   "cell_type": "code",
   "execution_count": 14,
   "metadata": {},
   "outputs": [],
   "source": [
    "label=[]\n",
    "for i in text:\n",
    "    if i==\" \" or i=='' or i=='\\n':continue\n",
    "    label.append(i)"
   ]
  },
  {
   "cell_type": "code",
   "execution_count": 15,
   "metadata": {},
   "outputs": [],
   "source": [
    "label_array=np.array(label)"
   ]
  },
  {
   "cell_type": "code",
   "execution_count": 17,
   "metadata": {},
   "outputs": [
    {
     "data": {
      "text/plain": [
       "array(['፯', '፰', '፮', '፫', '፭', '፭', '፪', '፲', '፮', '፪', '፬', '፪', '፱',\n",
       "       '፲', '፬'], dtype='<U1')"
      ]
     },
     "execution_count": 17,
     "metadata": {},
     "output_type": "execute_result"
    }
   ],
   "source": [
    "label_array[:15]"
   ]
  },
  {
   "cell_type": "code",
   "execution_count": 18,
   "metadata": {},
   "outputs": [
    {
     "name": "stdout",
     "output_type": "stream",
     "text": [
      "(400, 28, 28)\n",
      "(400,)\n"
     ]
    }
   ],
   "source": [
    "print(im_array.shape)\n",
    "print(label_array.shape)"
   ]
  },
  {
   "cell_type": "code",
   "execution_count": 19,
   "metadata": {},
   "outputs": [
    {
     "data": {
      "text/plain": [
       "'፬'"
      ]
     },
     "execution_count": 19,
     "metadata": {},
     "output_type": "execute_result"
    },
    {
     "data": {
      "image/png": "[encoded data removed]",
      "text/plain": [
       "<matplotlib.figure.Figure at 0x7f65cd035e48>"
      ]
     },
     "metadata": {
      "needs_background": "light"
     },
     "output_type": "display_data"
    }
   ],
   "source": [
    "#plt.imshow(im_array[1]) # to diplay the  sample image with yellow background since it used colormap to map intensity to color.\n",
    "plt.imshow(im_array[10],cmap='Greys_r')# todisply the backgrouund to be white\n",
    "label[10]#to display label"
   ]
  },
  {
   "cell_type": "code",
   "execution_count": 20,
   "metadata": {},
   "outputs": [],
   "source": [
    "data, labels = shuffle(im_array, label_array, random_state=2)\n"
   ]
  },
  {
   "cell_type": "code",
   "execution_count": 21,
   "metadata": {},
   "outputs": [],
   "source": [
    "np.save('/media/nbm/New Volume/Msc_courses/ML-BDU/SWE_PPT/Sample_codes/numpy_digit_dataset_model/x_train_digit',data)\n",
    "np.save('/media/nbm/New Volume/Msc_courses/ML-BDU/SWE_PPT/Sample_codes/numpy_digit_dataset_model/y_train_digit',labels)\n"
   ]
  },
  {
   "cell_type": "code",
   "execution_count": 22,
   "metadata": {},
   "outputs": [],
   "source": [
    "x_train_digit=np.load('/media/nbm/New Volume/Msc_courses/ML-BDU/SWE_PPT/Sample_codes/numpy_digit_dataset_model/x_train_digit.npy')\n",
    "y_train_label=np.load('/media/nbm/New Volume/Msc_courses/ML-BDU/SWE_PPT/Sample_codes/numpy_digit_dataset_model/y_train_digit.npy')\n"
   ]
  },
  {
   "cell_type": "code",
   "execution_count": 23,
   "metadata": {},
   "outputs": [
    {
     "data": {
      "text/plain": [
       "(400, 28, 28)"
      ]
     },
     "execution_count": 23,
     "metadata": {},
     "output_type": "execute_result"
    }
   ],
   "source": [
    "x_train_digit.shape"
   ]
  },
  {
   "cell_type": "code",
   "execution_count": 24,
   "metadata": {},
   "outputs": [
    {
     "data": {
      "text/plain": [
       "(400,)"
      ]
     },
     "execution_count": 24,
     "metadata": {},
     "output_type": "execute_result"
    }
   ],
   "source": [
    "y_train_label.shape"
   ]
  },
  {
   "cell_type": "code",
   "execution_count": 26,
   "metadata": {},
   "outputs": [],
   "source": [
    "x_train, x_test, y_train, y_test = train_test_split(x_train_digit, y_train_label, test_size=0.2)"
   ]
  },
  {
   "cell_type": "code",
   "execution_count": 27,
   "metadata": {},
   "outputs": [
    {
     "data": {
      "text/plain": [
       "(320, 28, 28)"
      ]
     },
     "execution_count": 27,
     "metadata": {},
     "output_type": "execute_result"
    }
   ],
   "source": [
    "x_train.shape"
   ]
  },
  {
   "cell_type": "code",
   "execution_count": 28,
   "metadata": {},
   "outputs": [],
   "source": [
    "x_train_reshape=x_train.reshape(x_train.shape[0],x_train.shape[1]*x_train.shape[2])\n",
    "x_test_reshape=x_test.reshape(x_test.shape[0],x_test.shape[1]*x_test.shape[2])"
   ]
  },
  {
   "cell_type": "code",
   "execution_count": 29,
   "metadata": {},
   "outputs": [
    {
     "data": {
      "text/plain": [
       "(320, 784)"
      ]
     },
     "execution_count": 29,
     "metadata": {},
     "output_type": "execute_result"
    }
   ],
   "source": [
    "x_train_reshape.shape"
   ]
  },
  {
   "cell_type": "code",
   "execution_count": 30,
   "metadata": {},
   "outputs": [
    {
     "name": "stderr",
     "output_type": "stream",
     "text": [
      "/home/nbm/.local/lib/python3.5/site-packages/sklearn/svm/_base.py:947: ConvergenceWarning: Liblinear failed to converge, increase the number of iterations.\n",
      "  \"the number of iterations.\", ConvergenceWarning)\n"
     ]
    },
    {
     "data": {
      "text/plain": [
       "LinearSVC(C=1.0, class_weight=None, dual=True, fit_intercept=True,\n",
       "          intercept_scaling=1, loss='squared_hinge', max_iter=1000,\n",
       "          multi_class='ovr', penalty='l2', random_state=None, tol=0.0001,\n",
       "          verbose=0)"
      ]
     },
     "execution_count": 30,
     "metadata": {},
     "output_type": "execute_result"
    }
   ],
   "source": [
    "#ovr and ovo SVM classification\n",
    "from sklearn import svm\n",
    "model_digit = svm.SVC(kernel='linear', C = 1.0, decision_function_shape='ovR')\n",
    "model_digit.fit(x_train_reshape, y_train) \n",
    "\n",
    "\n",
    "# hinge_loss\n",
    "model_hinge = svm.LinearSVC()\n",
    "model_hinge.fit(x_train_reshape, y_train) "
   ]
  },
  {
   "cell_type": "code",
   "execution_count": 31,
   "metadata": {},
   "outputs": [],
   "source": [
    "result = model_digit.score(x_test_reshape, y_test)\n",
    "result_hinge = model_hinge.score(x_test_reshape, y_test)"
   ]
  },
  {
   "cell_type": "code",
   "execution_count": 32,
   "metadata": {},
   "outputs": [],
   "source": [
    "# to save and load model\n",
    "import pickle\n",
    "filename = '/media/nbm/New Volume/Msc_courses/ML-BDU/SWE_PPT/Sample_codes/numpy_digit_dataset_model/model_digit.sav'\n",
    "pickle.dump(model_digit, open(filename, 'wb'))\n",
    "\n"
   ]
  },
  {
   "cell_type": "code",
   "execution_count": 33,
   "metadata": {},
   "outputs": [],
   "source": [
    "# load the model from disk\n",
    "loaded_model_digit = pickle.load(open(filename, 'rb'))"
   ]
  },
  {
   "cell_type": "code",
   "execution_count": 34,
   "metadata": {},
   "outputs": [],
   "source": [
    "resut=loaded_model_digit.score(x_test_reshape, y_test)"
   ]
  },
  {
   "cell_type": "code",
   "execution_count": 35,
   "metadata": {},
   "outputs": [
    {
     "name": "stdout",
     "output_type": "stream",
     "text": [
      "['፪' '፪' '፫' '፰' '፬' '፰' '፭' '፩' '፰' '፯' '፬' '፭' '፭' '፮' '፱' '፫' '፭' '፩'\n",
      " '፮' '፮' '፲' '፲' '፩' '፪' '፰' '፮' '፱' '፫' '፮' '፭' '፲' '፲' '፩' '፩' '፬' '፫'\n",
      " '፱' '፮' '፱' '፫']\n",
      "['፪' '፪' '፫' '፰' '፬' '፰' '፭' '፩' '፰' '፯' '፬' '፱' '፭' '፮' '፱' '፩' '፱' '፩'\n",
      " '፯' '፮' '፲' '፫' '፮' '፪' '፰' '፮' '፱' '፫' '፮' '፭' '፲' '፲' '፩' '፩' '፬' '፫'\n",
      " '፱' '፯' '፰' '፫']\n"
     ]
    }
   ],
   "source": [
    "print(model_digit.predict(x_test_reshape[:40]))\n",
    "print(y_test[:40])"
   ]
  },
  {
   "cell_type": "code",
   "execution_count": 32,
   "metadata": {},
   "outputs": [],
   "source": [
    "y_pred = model_digit.predict(x_test_reshape)\n",
    "y_test_class = y_test\n",
    "y_pred_class = y_pred\n",
    "#Accuracy of the predicted values\n"
   ]
  },
  {
   "cell_type": "code",
   "execution_count": 48,
   "metadata": {},
   "outputs": [
    {
     "name": "stdout",
     "output_type": "stream",
     "text": [
      "              precision    recall  f1-score   support\n",
      "\n",
      "           ፩       0.90      0.82      0.86        11\n",
      "           ፪       1.00      0.80      0.89         5\n",
      "           ፫       0.64      0.88      0.74         8\n",
      "           ፬       0.83      0.71      0.77         7\n",
      "           ፭       0.83      0.56      0.67         9\n",
      "           ፮       0.75      1.00      0.86         6\n",
      "           ፯       0.75      0.75      0.75         8\n",
      "           ፰       0.80      0.80      0.80        10\n",
      "           ፱       0.67      1.00      0.80         6\n",
      "           ፲       0.88      0.70      0.78        10\n",
      "\n",
      "    accuracy                           0.79        80\n",
      "   macro avg       0.80      0.80      0.79        80\n",
      "weighted avg       0.81      0.79      0.79        80\n",
      "\n"
     ]
    }
   ],
   "source": [
    "print(classification_report(y_test_class, y_pred_class)) # Precision , Recall, F1-Score & Support\n"
   ]
  },
  {
   "cell_type": "code",
   "execution_count": 33,
   "metadata": {},
   "outputs": [
    {
     "name": "stdout",
     "output_type": "stream",
     "text": [
      "[[ 7  0  0  1  0  0  0  0  1  1]\n",
      " [ 0  5  0  0  0  0  0  0  0  0]\n",
      " [ 0  0  7  1  0  0  0  0  1  0]\n",
      " [ 0  0  0  6  0  0  0  0  0  0]\n",
      " [ 1  0  0  0  3  0  0  0  0  0]\n",
      " [ 0  0  0  0  0  9  1  0  0  0]\n",
      " [ 0  0  1  0  0  0  6  0  0  0]\n",
      " [ 1  0  0  0  0  0  1 13  1  0]\n",
      " [ 0  0  0  1  0  0  0  0  4  0]\n",
      " [ 0  0  0  0  0  0  0  0  0  8]]\n"
     ]
    }
   ],
   "source": [
    "cm = confusion_matrix(y_test_class, y_pred_class)\n",
    "print(cm)"
   ]
  },
  {
   "cell_type": "code",
   "execution_count": 34,
   "metadata": {},
   "outputs": [],
   "source": [
    "from sklearn.neighbors import KNeighborsClassifier\n"
   ]
  },
  {
   "cell_type": "code",
   "execution_count": 35,
   "metadata": {},
   "outputs": [
    {
     "data": {
      "text/plain": [
       "KNeighborsClassifier(algorithm='auto', leaf_size=30, metric='minkowski',\n",
       "                     metric_params=None, n_jobs=None, n_neighbors=3, p=2,\n",
       "                     weights='uniform')"
      ]
     },
     "execution_count": 35,
     "metadata": {},
     "output_type": "execute_result"
    }
   ],
   "source": [
    "neigh = KNeighborsClassifier(n_neighbors=3)\n",
    "neigh.fit(x_train_reshape, y_train)"
   ]
  },
  {
   "cell_type": "code",
   "execution_count": 36,
   "metadata": {},
   "outputs": [
    {
     "name": "stdout",
     "output_type": "stream",
     "text": [
      "['፬' '፰' '፮']\n"
     ]
    }
   ],
   "source": [
    "print(neigh.predict(x_test_reshape[:3]))\n"
   ]
  },
  {
   "cell_type": "code",
   "execution_count": 37,
   "metadata": {},
   "outputs": [
    {
     "name": "stdout",
     "output_type": "stream",
     "text": [
      "[[0. 0. 0. 0. 0. 0. 0. 1. 0. 0.]]\n"
     ]
    }
   ],
   "source": [
    "print(neigh.predict_proba([x_train_reshape[2]]))"
   ]
  },
  {
   "cell_type": "code",
   "execution_count": 38,
   "metadata": {},
   "outputs": [
    {
     "name": "stdout",
     "output_type": "stream",
     "text": [
      "['፬' '፰' '፮']\n"
     ]
    }
   ],
   "source": [
    "print(y_test[:3])"
   ]
  },
  {
   "cell_type": "code",
   "execution_count": null,
   "metadata": {},
   "outputs": [],
   "source": []
  }
 ],
 "metadata": {
  "kernelspec": {
   "display_name": "Python 2",
   "language": "python",
   "name": "python2"
  },
  "language_info": {
   "codemirror_mode": {
    "name": "ipython",
    "version": 3
   },
   "file_extension": ".py",
   "mimetype": "text/x-python",
   "name": "python",
   "nbconvert_exporter": "python",
   "pygments_lexer": "ipython3",
   "version": "3.5.2"
  }
 },
 "nbformat": 4,
 "nbformat_minor": 4
}

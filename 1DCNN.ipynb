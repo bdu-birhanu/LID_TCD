{
 "cells": [
  {
   "cell_type": "code",
   "execution_count": 84,
   "metadata": {},
   "outputs": [],
   "source": [
    "\n",
    "# cnn model\n",
    "from numpy import mean\n",
    "from numpy import std\n",
    "from numpy import dstack\n",
    "from pandas import read_csv\n",
    "from matplotlib import pyplot\n",
    "import matplotlib.pyplot as plt\n",
    "from tensorflow.keras.models import Sequential\n",
    "from keras.layers import Dense\n",
    "from keras.layers import Flatten\n",
    "from keras.layers import Dropout\n",
    "from keras.layers.convolutional import Conv1D\n",
    "from keras.layers.convolutional import MaxPooling1D\n",
    "from keras.utils import to_categorical\n",
    "import pandas as pd"
   ]
  },
  {
   "cell_type": "code",
   "execution_count": 22,
   "metadata": {},
   "outputs": [],
   "source": [
    "from tensorflow.keras.models import Sequential"
   ]
  },
  {
   "cell_type": "code",
   "execution_count": 23,
   "metadata": {},
   "outputs": [],
   "source": [
    "from tensorflow.keras.layers import Dense\n",
    "from tensorflow.keras.layers import Flatten"
   ]
  },
  {
   "cell_type": "code",
   "execution_count": 32,
   "metadata": {},
   "outputs": [],
   "source": [
    "from tensorflow.keras.layers import Dropout\n",
    "\n",
    "from keras.utils import to_categorical\n",
    "import tensorflow as tf"
   ]
  },
  {
   "cell_type": "code",
   "execution_count": 42,
   "metadata": {},
   "outputs": [],
   "source": [
    "data1 = pd.read_csv(\"/media/nbm/2D08-2980/ICT4D/Historical_code/Again.csv\")"
   ]
  },
  {
   "cell_type": "code",
   "execution_count": 44,
   "metadata": {},
   "outputs": [
    {
     "data": {
      "text/html": [
       "<div>\n",
       "<style scoped>\n",
       "    .dataframe tbody tr th:only-of-type {\n",
       "        vertical-align: middle;\n",
       "    }\n",
       "\n",
       "    .dataframe tbody tr th {\n",
       "        vertical-align: top;\n",
       "    }\n",
       "\n",
       "    .dataframe thead th {\n",
       "        text-align: right;\n",
       "    }\n",
       "</style>\n",
       "<table border=\"1\" class=\"dataframe\">\n",
       "  <thead>\n",
       "    <tr style=\"text-align: right;\">\n",
       "      <th></th>\n",
       "      <th>Age</th>\n",
       "      <th>Gender</th>\n",
       "      <th>Marital_Status</th>\n",
       "      <th>Job</th>\n",
       "      <th>Education</th>\n",
       "      <th>Work_Experience</th>\n",
       "      <th>Type_of_Loan</th>\n",
       "      <th>Annual_Income</th>\n",
       "      <th>Coapplicant_Income</th>\n",
       "      <th>Total_Income</th>\n",
       "      <th>Duration_of_Loan</th>\n",
       "      <th>A</th>\n",
       "      <th>Loan_History</th>\n",
       "      <th>Loan_Grade</th>\n",
       "      <th>Amount_of_Loan</th>\n",
       "      <th>Loan_int_rate</th>\n",
       "      <th>Loan_Status</th>\n",
       "    </tr>\n",
       "  </thead>\n",
       "  <tbody>\n",
       "    <tr>\n",
       "      <th>0</th>\n",
       "      <td>22</td>\n",
       "      <td>0</td>\n",
       "      <td>1</td>\n",
       "      <td>0</td>\n",
       "      <td>1</td>\n",
       "      <td>3</td>\n",
       "      <td>0</td>\n",
       "      <td>59000</td>\n",
       "      <td>11500</td>\n",
       "      <td>70500</td>\n",
       "      <td>180</td>\n",
       "      <td>0</td>\n",
       "      <td>1</td>\n",
       "      <td>3</td>\n",
       "      <td>35000</td>\n",
       "      <td>16.02</td>\n",
       "      <td>1</td>\n",
       "    </tr>\n",
       "    <tr>\n",
       "      <th>1</th>\n",
       "      <td>21</td>\n",
       "      <td>0</td>\n",
       "      <td>0</td>\n",
       "      <td>1</td>\n",
       "      <td>0</td>\n",
       "      <td>5</td>\n",
       "      <td>1</td>\n",
       "      <td>9600</td>\n",
       "      <td>3000</td>\n",
       "      <td>12600</td>\n",
       "      <td>300</td>\n",
       "      <td>0</td>\n",
       "      <td>2</td>\n",
       "      <td>1</td>\n",
       "      <td>1000</td>\n",
       "      <td>11.14</td>\n",
       "      <td>0</td>\n",
       "    </tr>\n",
       "    <tr>\n",
       "      <th>2</th>\n",
       "      <td>25</td>\n",
       "      <td>0</td>\n",
       "      <td>0</td>\n",
       "      <td>0</td>\n",
       "      <td>1</td>\n",
       "      <td>1</td>\n",
       "      <td>1</td>\n",
       "      <td>9600</td>\n",
       "      <td>16500</td>\n",
       "      <td>26100</td>\n",
       "      <td>300</td>\n",
       "      <td>0</td>\n",
       "      <td>3</td>\n",
       "      <td>2</td>\n",
       "      <td>5500</td>\n",
       "      <td>12.87</td>\n",
       "      <td>1</td>\n",
       "    </tr>\n",
       "    <tr>\n",
       "      <th>3</th>\n",
       "      <td>23</td>\n",
       "      <td>0</td>\n",
       "      <td>0</td>\n",
       "      <td>2</td>\n",
       "      <td>0</td>\n",
       "      <td>4</td>\n",
       "      <td>1</td>\n",
       "      <td>65500</td>\n",
       "      <td>16425</td>\n",
       "      <td>81925</td>\n",
       "      <td>300</td>\n",
       "      <td>0</td>\n",
       "      <td>3</td>\n",
       "      <td>2</td>\n",
       "      <td>35000</td>\n",
       "      <td>15.23</td>\n",
       "      <td>1</td>\n",
       "    </tr>\n",
       "    <tr>\n",
       "      <th>4</th>\n",
       "      <td>24</td>\n",
       "      <td>1</td>\n",
       "      <td>1</td>\n",
       "      <td>3</td>\n",
       "      <td>0</td>\n",
       "      <td>8</td>\n",
       "      <td>2</td>\n",
       "      <td>54400</td>\n",
       "      <td>16400</td>\n",
       "      <td>70800</td>\n",
       "      <td>144</td>\n",
       "      <td>0</td>\n",
       "      <td>3</td>\n",
       "      <td>2</td>\n",
       "      <td>35000</td>\n",
       "      <td>14.27</td>\n",
       "      <td>1</td>\n",
       "    </tr>\n",
       "    <tr>\n",
       "      <th>...</th>\n",
       "      <td>...</td>\n",
       "      <td>...</td>\n",
       "      <td>...</td>\n",
       "      <td>...</td>\n",
       "      <td>...</td>\n",
       "      <td>...</td>\n",
       "      <td>...</td>\n",
       "      <td>...</td>\n",
       "      <td>...</td>\n",
       "      <td>...</td>\n",
       "      <td>...</td>\n",
       "      <td>...</td>\n",
       "      <td>...</td>\n",
       "      <td>...</td>\n",
       "      <td>...</td>\n",
       "      <td>...</td>\n",
       "      <td>...</td>\n",
       "    </tr>\n",
       "    <tr>\n",
       "      <th>5995</th>\n",
       "      <td>26</td>\n",
       "      <td>1</td>\n",
       "      <td>0</td>\n",
       "      <td>0</td>\n",
       "      <td>0</td>\n",
       "      <td>0</td>\n",
       "      <td>3</td>\n",
       "      <td>47000</td>\n",
       "      <td>2500</td>\n",
       "      <td>49500</td>\n",
       "      <td>60</td>\n",
       "      <td>0</td>\n",
       "      <td>3</td>\n",
       "      <td>0</td>\n",
       "      <td>16500</td>\n",
       "      <td>6.92</td>\n",
       "      <td>1</td>\n",
       "    </tr>\n",
       "    <tr>\n",
       "      <th>5996</th>\n",
       "      <td>23</td>\n",
       "      <td>0</td>\n",
       "      <td>1</td>\n",
       "      <td>0</td>\n",
       "      <td>2</td>\n",
       "      <td>5</td>\n",
       "      <td>1</td>\n",
       "      <td>47000</td>\n",
       "      <td>2500</td>\n",
       "      <td>49500</td>\n",
       "      <td>60</td>\n",
       "      <td>0</td>\n",
       "      <td>4</td>\n",
       "      <td>1</td>\n",
       "      <td>16500</td>\n",
       "      <td>10.62</td>\n",
       "      <td>1</td>\n",
       "    </tr>\n",
       "    <tr>\n",
       "      <th>5997</th>\n",
       "      <td>22</td>\n",
       "      <td>0</td>\n",
       "      <td>1</td>\n",
       "      <td>0</td>\n",
       "      <td>2</td>\n",
       "      <td>6</td>\n",
       "      <td>1</td>\n",
       "      <td>48000</td>\n",
       "      <td>3250</td>\n",
       "      <td>51250</td>\n",
       "      <td>60</td>\n",
       "      <td>0</td>\n",
       "      <td>3</td>\n",
       "      <td>0</td>\n",
       "      <td>16500</td>\n",
       "      <td>8.90</td>\n",
       "      <td>1</td>\n",
       "    </tr>\n",
       "    <tr>\n",
       "      <th>5998</th>\n",
       "      <td>25</td>\n",
       "      <td>0</td>\n",
       "      <td>1</td>\n",
       "      <td>0</td>\n",
       "      <td>1</td>\n",
       "      <td>2</td>\n",
       "      <td>3</td>\n",
       "      <td>25000</td>\n",
       "      <td>2500</td>\n",
       "      <td>27500</td>\n",
       "      <td>120</td>\n",
       "      <td>0</td>\n",
       "      <td>4</td>\n",
       "      <td>0</td>\n",
       "      <td>1500</td>\n",
       "      <td>6.76</td>\n",
       "      <td>0</td>\n",
       "    </tr>\n",
       "    <tr>\n",
       "      <th>5999</th>\n",
       "      <td>25</td>\n",
       "      <td>1</td>\n",
       "      <td>0</td>\n",
       "      <td>1</td>\n",
       "      <td>0</td>\n",
       "      <td>0</td>\n",
       "      <td>3</td>\n",
       "      <td>56000</td>\n",
       "      <td>2500</td>\n",
       "      <td>58500</td>\n",
       "      <td>300</td>\n",
       "      <td>0</td>\n",
       "      <td>5</td>\n",
       "      <td>3</td>\n",
       "      <td>16500</td>\n",
       "      <td>12.80</td>\n",
       "      <td>1</td>\n",
       "    </tr>\n",
       "  </tbody>\n",
       "</table>\n",
       "<p>6000 rows × 17 columns</p>\n",
       "</div>"
      ],
      "text/plain": [
       "      Age  Gender  Marital_Status  Job  Education  Work_Experience  \\\n",
       "0      22       0               1    0          1                3   \n",
       "1      21       0               0    1          0                5   \n",
       "2      25       0               0    0          1                1   \n",
       "3      23       0               0    2          0                4   \n",
       "4      24       1               1    3          0                8   \n",
       "...   ...     ...             ...  ...        ...              ...   \n",
       "5995   26       1               0    0          0                0   \n",
       "5996   23       0               1    0          2                5   \n",
       "5997   22       0               1    0          2                6   \n",
       "5998   25       0               1    0          1                2   \n",
       "5999   25       1               0    1          0                0   \n",
       "\n",
       "      Type_of_Loan  Annual_Income  Coapplicant_Income  Total_Income  \\\n",
       "0                0          59000               11500         70500   \n",
       "1                1           9600                3000         12600   \n",
       "2                1           9600               16500         26100   \n",
       "3                1          65500               16425         81925   \n",
       "4                2          54400               16400         70800   \n",
       "...            ...            ...                 ...           ...   \n",
       "5995             3          47000                2500         49500   \n",
       "5996             1          47000                2500         49500   \n",
       "5997             1          48000                3250         51250   \n",
       "5998             3          25000                2500         27500   \n",
       "5999             3          56000                2500         58500   \n",
       "\n",
       "      Duration_of_Loan  A  Loan_History  Loan_Grade  Amount_of_Loan  \\\n",
       "0                  180  0             1           3           35000   \n",
       "1                  300  0             2           1            1000   \n",
       "2                  300  0             3           2            5500   \n",
       "3                  300  0             3           2           35000   \n",
       "4                  144  0             3           2           35000   \n",
       "...                ... ..           ...         ...             ...   \n",
       "5995                60  0             3           0           16500   \n",
       "5996                60  0             4           1           16500   \n",
       "5997                60  0             3           0           16500   \n",
       "5998               120  0             4           0            1500   \n",
       "5999               300  0             5           3           16500   \n",
       "\n",
       "      Loan_int_rate  Loan_Status  \n",
       "0             16.02            1  \n",
       "1             11.14            0  \n",
       "2             12.87            1  \n",
       "3             15.23            1  \n",
       "4             14.27            1  \n",
       "...             ...          ...  \n",
       "5995           6.92            1  \n",
       "5996          10.62            1  \n",
       "5997           8.90            1  \n",
       "5998           6.76            0  \n",
       "5999          12.80            1  \n",
       "\n",
       "[6000 rows x 17 columns]"
      ]
     },
     "execution_count": 44,
     "metadata": {},
     "output_type": "execute_result"
    }
   ],
   "source": [
    "data1"
   ]
  },
  {
   "cell_type": "code",
   "execution_count": 45,
   "metadata": {},
   "outputs": [],
   "source": [
    "\n",
    "data = data1.drop(columns=['Loan_Status'])"
   ]
  },
  {
   "cell_type": "code",
   "execution_count": 56,
   "metadata": {},
   "outputs": [
    {
     "name": "stdout",
     "output_type": "stream",
     "text": [
      "[[2.200e+01 0.000e+00 1.000e+00 ... 3.000e+00 3.500e+04 1.602e+01]\n",
      " [2.100e+01 0.000e+00 0.000e+00 ... 1.000e+00 1.000e+03 1.114e+01]\n",
      " [2.500e+01 0.000e+00 0.000e+00 ... 2.000e+00 5.500e+03 1.287e+01]\n",
      " ...\n",
      " [2.200e+01 0.000e+00 1.000e+00 ... 0.000e+00 1.650e+04 8.900e+00]\n",
      " [2.500e+01 0.000e+00 1.000e+00 ... 0.000e+00 1.500e+03 6.760e+00]\n",
      " [2.500e+01 1.000e+00 0.000e+00 ... 3.000e+00 1.650e+04 1.280e+01]]\n"
     ]
    }
   ],
   "source": [
    "x = data1.iloc[:, :-1].values\n",
    "print(X)"
   ]
  },
  {
   "cell_type": "code",
   "execution_count": 58,
   "metadata": {},
   "outputs": [],
   "source": [
    "data=x"
   ]
  },
  {
   "cell_type": "code",
   "execution_count": 52,
   "metadata": {},
   "outputs": [
    {
     "name": "stdout",
     "output_type": "stream",
     "text": [
      "[1 0 1 ... 1 0 1]\n"
     ]
    }
   ],
   "source": [
    "y = data1.iloc[:, -1].values\n",
    "print(y)"
   ]
  },
  {
   "cell_type": "code",
   "execution_count": 53,
   "metadata": {},
   "outputs": [
    {
     "data": {
      "text/plain": [
       "(6000,)"
      ]
     },
     "execution_count": 53,
     "metadata": {},
     "output_type": "execute_result"
    }
   ],
   "source": [
    "y.shape"
   ]
  },
  {
   "cell_type": "code",
   "execution_count": 41,
   "metadata": {},
   "outputs": [
    {
     "data": {
      "text/plain": [
       "(6000, 16)"
      ]
     },
     "execution_count": 41,
     "metadata": {},
     "output_type": "execute_result"
    }
   ],
   "source": [
    "data.shape"
   ]
  },
  {
   "cell_type": "code",
   "execution_count": 48,
   "metadata": {},
   "outputs": [],
   "source": [
    "datay=pd.read_csv('/media/nbm/2D08-2980/ICT4D/Historical_code/Again.csv',index_col='Loan_Status')"
   ]
  },
  {
   "cell_type": "code",
   "execution_count": 49,
   "metadata": {},
   "outputs": [
    {
     "data": {
      "text/html": [
       "<div>\n",
       "<style scoped>\n",
       "    .dataframe tbody tr th:only-of-type {\n",
       "        vertical-align: middle;\n",
       "    }\n",
       "\n",
       "    .dataframe tbody tr th {\n",
       "        vertical-align: top;\n",
       "    }\n",
       "\n",
       "    .dataframe thead th {\n",
       "        text-align: right;\n",
       "    }\n",
       "</style>\n",
       "<table border=\"1\" class=\"dataframe\">\n",
       "  <thead>\n",
       "    <tr style=\"text-align: right;\">\n",
       "      <th></th>\n",
       "      <th>Age</th>\n",
       "      <th>Gender</th>\n",
       "      <th>Marital_Status</th>\n",
       "      <th>Job</th>\n",
       "      <th>Education</th>\n",
       "      <th>Work_Experience</th>\n",
       "      <th>Type_of_Loan</th>\n",
       "      <th>Annual_Income</th>\n",
       "      <th>Coapplicant_Income</th>\n",
       "      <th>Total_Income</th>\n",
       "      <th>Duration_of_Loan</th>\n",
       "      <th>A</th>\n",
       "      <th>Loan_History</th>\n",
       "      <th>Loan_Grade</th>\n",
       "      <th>Amount_of_Loan</th>\n",
       "      <th>Loan_int_rate</th>\n",
       "    </tr>\n",
       "    <tr>\n",
       "      <th>Loan_Status</th>\n",
       "      <th></th>\n",
       "      <th></th>\n",
       "      <th></th>\n",
       "      <th></th>\n",
       "      <th></th>\n",
       "      <th></th>\n",
       "      <th></th>\n",
       "      <th></th>\n",
       "      <th></th>\n",
       "      <th></th>\n",
       "      <th></th>\n",
       "      <th></th>\n",
       "      <th></th>\n",
       "      <th></th>\n",
       "      <th></th>\n",
       "      <th></th>\n",
       "    </tr>\n",
       "  </thead>\n",
       "  <tbody>\n",
       "    <tr>\n",
       "      <th>1</th>\n",
       "      <td>22</td>\n",
       "      <td>0</td>\n",
       "      <td>1</td>\n",
       "      <td>0</td>\n",
       "      <td>1</td>\n",
       "      <td>3</td>\n",
       "      <td>0</td>\n",
       "      <td>59000</td>\n",
       "      <td>11500</td>\n",
       "      <td>70500</td>\n",
       "      <td>180</td>\n",
       "      <td>0</td>\n",
       "      <td>1</td>\n",
       "      <td>3</td>\n",
       "      <td>35000</td>\n",
       "      <td>16.02</td>\n",
       "    </tr>\n",
       "    <tr>\n",
       "      <th>0</th>\n",
       "      <td>21</td>\n",
       "      <td>0</td>\n",
       "      <td>0</td>\n",
       "      <td>1</td>\n",
       "      <td>0</td>\n",
       "      <td>5</td>\n",
       "      <td>1</td>\n",
       "      <td>9600</td>\n",
       "      <td>3000</td>\n",
       "      <td>12600</td>\n",
       "      <td>300</td>\n",
       "      <td>0</td>\n",
       "      <td>2</td>\n",
       "      <td>1</td>\n",
       "      <td>1000</td>\n",
       "      <td>11.14</td>\n",
       "    </tr>\n",
       "    <tr>\n",
       "      <th>1</th>\n",
       "      <td>25</td>\n",
       "      <td>0</td>\n",
       "      <td>0</td>\n",
       "      <td>0</td>\n",
       "      <td>1</td>\n",
       "      <td>1</td>\n",
       "      <td>1</td>\n",
       "      <td>9600</td>\n",
       "      <td>16500</td>\n",
       "      <td>26100</td>\n",
       "      <td>300</td>\n",
       "      <td>0</td>\n",
       "      <td>3</td>\n",
       "      <td>2</td>\n",
       "      <td>5500</td>\n",
       "      <td>12.87</td>\n",
       "    </tr>\n",
       "    <tr>\n",
       "      <th>1</th>\n",
       "      <td>23</td>\n",
       "      <td>0</td>\n",
       "      <td>0</td>\n",
       "      <td>2</td>\n",
       "      <td>0</td>\n",
       "      <td>4</td>\n",
       "      <td>1</td>\n",
       "      <td>65500</td>\n",
       "      <td>16425</td>\n",
       "      <td>81925</td>\n",
       "      <td>300</td>\n",
       "      <td>0</td>\n",
       "      <td>3</td>\n",
       "      <td>2</td>\n",
       "      <td>35000</td>\n",
       "      <td>15.23</td>\n",
       "    </tr>\n",
       "    <tr>\n",
       "      <th>1</th>\n",
       "      <td>24</td>\n",
       "      <td>1</td>\n",
       "      <td>1</td>\n",
       "      <td>3</td>\n",
       "      <td>0</td>\n",
       "      <td>8</td>\n",
       "      <td>2</td>\n",
       "      <td>54400</td>\n",
       "      <td>16400</td>\n",
       "      <td>70800</td>\n",
       "      <td>144</td>\n",
       "      <td>0</td>\n",
       "      <td>3</td>\n",
       "      <td>2</td>\n",
       "      <td>35000</td>\n",
       "      <td>14.27</td>\n",
       "    </tr>\n",
       "    <tr>\n",
       "      <th>...</th>\n",
       "      <td>...</td>\n",
       "      <td>...</td>\n",
       "      <td>...</td>\n",
       "      <td>...</td>\n",
       "      <td>...</td>\n",
       "      <td>...</td>\n",
       "      <td>...</td>\n",
       "      <td>...</td>\n",
       "      <td>...</td>\n",
       "      <td>...</td>\n",
       "      <td>...</td>\n",
       "      <td>...</td>\n",
       "      <td>...</td>\n",
       "      <td>...</td>\n",
       "      <td>...</td>\n",
       "      <td>...</td>\n",
       "    </tr>\n",
       "    <tr>\n",
       "      <th>1</th>\n",
       "      <td>26</td>\n",
       "      <td>1</td>\n",
       "      <td>0</td>\n",
       "      <td>0</td>\n",
       "      <td>0</td>\n",
       "      <td>0</td>\n",
       "      <td>3</td>\n",
       "      <td>47000</td>\n",
       "      <td>2500</td>\n",
       "      <td>49500</td>\n",
       "      <td>60</td>\n",
       "      <td>0</td>\n",
       "      <td>3</td>\n",
       "      <td>0</td>\n",
       "      <td>16500</td>\n",
       "      <td>6.92</td>\n",
       "    </tr>\n",
       "    <tr>\n",
       "      <th>1</th>\n",
       "      <td>23</td>\n",
       "      <td>0</td>\n",
       "      <td>1</td>\n",
       "      <td>0</td>\n",
       "      <td>2</td>\n",
       "      <td>5</td>\n",
       "      <td>1</td>\n",
       "      <td>47000</td>\n",
       "      <td>2500</td>\n",
       "      <td>49500</td>\n",
       "      <td>60</td>\n",
       "      <td>0</td>\n",
       "      <td>4</td>\n",
       "      <td>1</td>\n",
       "      <td>16500</td>\n",
       "      <td>10.62</td>\n",
       "    </tr>\n",
       "    <tr>\n",
       "      <th>1</th>\n",
       "      <td>22</td>\n",
       "      <td>0</td>\n",
       "      <td>1</td>\n",
       "      <td>0</td>\n",
       "      <td>2</td>\n",
       "      <td>6</td>\n",
       "      <td>1</td>\n",
       "      <td>48000</td>\n",
       "      <td>3250</td>\n",
       "      <td>51250</td>\n",
       "      <td>60</td>\n",
       "      <td>0</td>\n",
       "      <td>3</td>\n",
       "      <td>0</td>\n",
       "      <td>16500</td>\n",
       "      <td>8.90</td>\n",
       "    </tr>\n",
       "    <tr>\n",
       "      <th>0</th>\n",
       "      <td>25</td>\n",
       "      <td>0</td>\n",
       "      <td>1</td>\n",
       "      <td>0</td>\n",
       "      <td>1</td>\n",
       "      <td>2</td>\n",
       "      <td>3</td>\n",
       "      <td>25000</td>\n",
       "      <td>2500</td>\n",
       "      <td>27500</td>\n",
       "      <td>120</td>\n",
       "      <td>0</td>\n",
       "      <td>4</td>\n",
       "      <td>0</td>\n",
       "      <td>1500</td>\n",
       "      <td>6.76</td>\n",
       "    </tr>\n",
       "    <tr>\n",
       "      <th>1</th>\n",
       "      <td>25</td>\n",
       "      <td>1</td>\n",
       "      <td>0</td>\n",
       "      <td>1</td>\n",
       "      <td>0</td>\n",
       "      <td>0</td>\n",
       "      <td>3</td>\n",
       "      <td>56000</td>\n",
       "      <td>2500</td>\n",
       "      <td>58500</td>\n",
       "      <td>300</td>\n",
       "      <td>0</td>\n",
       "      <td>5</td>\n",
       "      <td>3</td>\n",
       "      <td>16500</td>\n",
       "      <td>12.80</td>\n",
       "    </tr>\n",
       "  </tbody>\n",
       "</table>\n",
       "<p>6000 rows × 16 columns</p>\n",
       "</div>"
      ],
      "text/plain": [
       "             Age  Gender  Marital_Status  Job  Education  Work_Experience  \\\n",
       "Loan_Status                                                                 \n",
       "1             22       0               1    0          1                3   \n",
       "0             21       0               0    1          0                5   \n",
       "1             25       0               0    0          1                1   \n",
       "1             23       0               0    2          0                4   \n",
       "1             24       1               1    3          0                8   \n",
       "...          ...     ...             ...  ...        ...              ...   \n",
       "1             26       1               0    0          0                0   \n",
       "1             23       0               1    0          2                5   \n",
       "1             22       0               1    0          2                6   \n",
       "0             25       0               1    0          1                2   \n",
       "1             25       1               0    1          0                0   \n",
       "\n",
       "             Type_of_Loan  Annual_Income  Coapplicant_Income  Total_Income  \\\n",
       "Loan_Status                                                                  \n",
       "1                       0          59000               11500         70500   \n",
       "0                       1           9600                3000         12600   \n",
       "1                       1           9600               16500         26100   \n",
       "1                       1          65500               16425         81925   \n",
       "1                       2          54400               16400         70800   \n",
       "...                   ...            ...                 ...           ...   \n",
       "1                       3          47000                2500         49500   \n",
       "1                       1          47000                2500         49500   \n",
       "1                       1          48000                3250         51250   \n",
       "0                       3          25000                2500         27500   \n",
       "1                       3          56000                2500         58500   \n",
       "\n",
       "             Duration_of_Loan  A  Loan_History  Loan_Grade  Amount_of_Loan  \\\n",
       "Loan_Status                                                                  \n",
       "1                         180  0             1           3           35000   \n",
       "0                         300  0             2           1            1000   \n",
       "1                         300  0             3           2            5500   \n",
       "1                         300  0             3           2           35000   \n",
       "1                         144  0             3           2           35000   \n",
       "...                       ... ..           ...         ...             ...   \n",
       "1                          60  0             3           0           16500   \n",
       "1                          60  0             4           1           16500   \n",
       "1                          60  0             3           0           16500   \n",
       "0                         120  0             4           0            1500   \n",
       "1                         300  0             5           3           16500   \n",
       "\n",
       "             Loan_int_rate  \n",
       "Loan_Status                 \n",
       "1                    16.02  \n",
       "0                    11.14  \n",
       "1                    12.87  \n",
       "1                    15.23  \n",
       "1                    14.27  \n",
       "...                    ...  \n",
       "1                     6.92  \n",
       "1                    10.62  \n",
       "1                     8.90  \n",
       "0                     6.76  \n",
       "1                    12.80  \n",
       "\n",
       "[6000 rows x 16 columns]"
      ]
     },
     "execution_count": 49,
     "metadata": {},
     "output_type": "execute_result"
    }
   ],
   "source": [
    "datay"
   ]
  },
  {
   "cell_type": "code",
   "execution_count": 11,
   "metadata": {},
   "outputs": [],
   "source": [
    "arr = data.to_numpy()"
   ]
  },
  {
   "cell_type": "code",
   "execution_count": 12,
   "metadata": {},
   "outputs": [
    {
     "data": {
      "text/plain": [
       "(6000, 17)"
      ]
     },
     "execution_count": 12,
     "metadata": {},
     "output_type": "execute_result"
    }
   ],
   "source": [
    "arr.shape"
   ]
  },
  {
   "cell_type": "code",
   "execution_count": 60,
   "metadata": {},
   "outputs": [],
   "source": [
    "x_train_r=data.reshape(data.shape[0],1, data.shape[1]) "
   ]
  },
  {
   "cell_type": "code",
   "execution_count": 61,
   "metadata": {},
   "outputs": [
    {
     "data": {
      "text/plain": [
       "(6000, 1, 16)"
      ]
     },
     "execution_count": 61,
     "metadata": {},
     "output_type": "execute_result"
    }
   ],
   "source": [
    "x_train_r.shape"
   ]
  },
  {
   "cell_type": "code",
   "execution_count": 62,
   "metadata": {},
   "outputs": [],
   "source": [
    "n_timesteps,n_features=x_train_r.shape[1],x_train_r.shape[2]"
   ]
  },
  {
   "cell_type": "code",
   "execution_count": 63,
   "metadata": {},
   "outputs": [
    {
     "name": "stdout",
     "output_type": "stream",
     "text": [
      "16\n"
     ]
    }
   ],
   "source": [
    "print(n_features)"
   ]
  },
  {
   "cell_type": "code",
   "execution_count": 67,
   "metadata": {},
   "outputs": [],
   "source": [
    "trainy = to_categorical(y)"
   ]
  },
  {
   "cell_type": "code",
   "execution_count": 68,
   "metadata": {},
   "outputs": [
    {
     "data": {
      "text/plain": [
       "array([[0., 1.],\n",
       "       [1., 0.],\n",
       "       [0., 1.],\n",
       "       ...,\n",
       "       [0., 1.],\n",
       "       [1., 0.],\n",
       "       [0., 1.]], dtype=float32)"
      ]
     },
     "execution_count": 68,
     "metadata": {},
     "output_type": "execute_result"
    }
   ],
   "source": [
    "trainy"
   ]
  },
  {
   "cell_type": "code",
   "execution_count": 64,
   "metadata": {},
   "outputs": [],
   "source": [
    "n_outputs=2"
   ]
  },
  {
   "cell_type": "code",
   "execution_count": 65,
   "metadata": {},
   "outputs": [],
   "source": [
    "model = Sequential()\n",
    "model.add(tf.keras.layers.Conv1D(filters=64, kernel_size=1, activation='relu', input_shape=(n_timesteps,n_features)))\n",
    "model.add(tf.keras.layers.Conv1D(filters=64, kernel_size=1, activation='relu'))\n",
    "model.add(Dropout(0.5))\n",
    "model.add(tf.keras.layers.MaxPool1D(pool_size=1))\n",
    "model.add(Flatten())\n",
    "model.add(Dense(100, activation='relu'))\n",
    "model.add(Dense(n_outputs, activation='softmax'))\n",
    "model.compile(loss='categorical_crossentropy', optimizer='adam', metrics=['accuracy'])"
   ]
  },
  {
   "cell_type": "code",
   "execution_count": null,
   "metadata": {},
   "outputs": [],
   "source": []
  },
  {
   "cell_type": "code",
   "execution_count": 129,
   "metadata": {},
   "outputs": [
    {
     "data": {
      "text/plain": [
       "(1, 16)"
      ]
     },
     "execution_count": 129,
     "metadata": {},
     "output_type": "execute_result"
    }
   ],
   "source": [
    "input_shape"
   ]
  },
  {
   "cell_type": "code",
   "execution_count": 66,
   "metadata": {},
   "outputs": [
    {
     "name": "stdout",
     "output_type": "stream",
     "text": [
      "Model: \"sequential_5\"\n",
      "_________________________________________________________________\n",
      "Layer (type)                 Output Shape              Param #   \n",
      "=================================================================\n",
      "conv1d_6 (Conv1D)            (None, 1, 64)             1088      \n",
      "_________________________________________________________________\n",
      "conv1d_7 (Conv1D)            (None, 1, 64)             4160      \n",
      "_________________________________________________________________\n",
      "dropout_2 (Dropout)          (None, 1, 64)             0         \n",
      "_________________________________________________________________\n",
      "max_pooling1d_2 (MaxPooling1 (None, 1, 64)             0         \n",
      "_________________________________________________________________\n",
      "flatten_1 (Flatten)          (None, 64)                0         \n",
      "_________________________________________________________________\n",
      "dense_2 (Dense)              (None, 100)               6500      \n",
      "_________________________________________________________________\n",
      "dense_3 (Dense)              (None, 2)                 202       \n",
      "=================================================================\n",
      "Total params: 11,950\n",
      "Trainable params: 11,950\n",
      "Non-trainable params: 0\n",
      "_________________________________________________________________\n"
     ]
    }
   ],
   "source": [
    "model.summary()"
   ]
  },
  {
   "cell_type": "code",
   "execution_count": 79,
   "metadata": {},
   "outputs": [
    {
     "name": "stdout",
     "output_type": "stream",
     "text": [
      "Epoch 1/10\n",
      "141/141 [==============================] - 0s 987us/step - loss: 0.5918 - accuracy: 0.6907 - val_loss: 0.4426 - val_accuracy: 0.8660\n",
      "Epoch 2/10\n",
      "141/141 [==============================] - 0s 953us/step - loss: 0.5723 - accuracy: 0.6933 - val_loss: 0.5157 - val_accuracy: 0.8660\n",
      "Epoch 3/10\n",
      "141/141 [==============================] - 0s 835us/step - loss: 0.5726 - accuracy: 0.6880 - val_loss: 0.3978 - val_accuracy: 0.8700\n",
      "Epoch 4/10\n",
      "141/141 [==============================] - 0s 882us/step - loss: 0.5678 - accuracy: 0.6884 - val_loss: 0.3607 - val_accuracy: 0.9040\n",
      "Epoch 5/10\n",
      "141/141 [==============================] - 0s 1ms/step - loss: 0.5852 - accuracy: 0.6851 - val_loss: 0.3594 - val_accuracy: 0.8700\n",
      "Epoch 6/10\n",
      "141/141 [==============================] - 0s 918us/step - loss: 0.5388 - accuracy: 0.7118 - val_loss: 0.3485 - val_accuracy: 0.8880\n",
      "Epoch 7/10\n",
      "141/141 [==============================] - 0s 875us/step - loss: 0.5626 - accuracy: 0.6958 - val_loss: 0.3457 - val_accuracy: 0.8920\n",
      "Epoch 8/10\n",
      "141/141 [==============================] - 0s 999us/step - loss: 0.6095 - accuracy: 0.7038 - val_loss: 0.3373 - val_accuracy: 0.8820\n",
      "Epoch 9/10\n",
      "141/141 [==============================] - 0s 880us/step - loss: 0.5591 - accuracy: 0.6953 - val_loss: 0.3545 - val_accuracy: 0.9080\n",
      "Epoch 10/10\n",
      "141/141 [==============================] - 0s 890us/step - loss: 0.5511 - accuracy: 0.6978 - val_loss: 0.3479 - val_accuracy: 0.8880\n"
     ]
    }
   ],
   "source": [
    "his=model.fit(x_train_r[:5000], trainy[:5000], epochs=10, batch_size=32, validation_split=0.1)"
   ]
  },
  {
   "cell_type": "code",
   "execution_count": 80,
   "metadata": {},
   "outputs": [
    {
     "name": "stdout",
     "output_type": "stream",
     "text": [
      "32/32 [==============================] - 0s 474us/step - loss: 0.4415 - accuracy: 0.8160\n"
     ]
    }
   ],
   "source": [
    "acc=model.evaluate(x_train_r[5000:], trainy[5000:], batch_size=32)"
   ]
  },
  {
   "cell_type": "code",
   "execution_count": 86,
   "metadata": {},
   "outputs": [
    {
     "data": {
      "image/png": "[encoded data removed]",
      "text/plain": [
       "<Figure size 432x288 with 1 Axes>"
      ]
     },
     "metadata": {
      "needs_background": "light"
     },
     "output_type": "display_data"
    }
   ],
   "source": [
    "trr_acc = his.history['accuracy']\n",
    "valr_acc = his.history['val_accuracy']\n",
    "epochs=range(10)\n",
    "\n",
    "\n",
    "# to print training  accuracy vs validation accuracy\n",
    "plt.plot(epochs, trr_acc)\n",
    "#plt.plot(epochs, valr_acc)\n",
    "\n",
    "plt.xlabel('num of Epochs')\n",
    "plt.ylabel('accuracy')\n",
    "plt.title('train_acc vs val_acc ( 1 layer Fine-tuned)')\n",
    "plt.grid(True)\n",
    "plt.legend(['train-row-predictor', 'val-row-predictor','train-column-predictor', 'val-column-predictor'], loc=4)\n",
    "plt.show()"
   ]
  },
  {
   "cell_type": "code",
   "execution_count": 87,
   "metadata": {},
   "outputs": [],
   "source": [
    "pred = model.predict(x_train_r[5000:])"
   ]
  },
  {
   "cell_type": "code",
   "execution_count": 90,
   "metadata": {},
   "outputs": [],
   "source": [
    "import numpy as np"
   ]
  },
  {
   "cell_type": "code",
   "execution_count": 92,
   "metadata": {},
   "outputs": [
    {
     "name": "stdout",
     "output_type": "stream",
     "text": [
      "              precision    recall  f1-score   support\n",
      "\n",
      "           0       0.77      0.90      0.83       496\n",
      "           1       0.88      0.74      0.80       504\n",
      "\n",
      "    accuracy                           0.82      1000\n",
      "   macro avg       0.82      0.82      0.81      1000\n",
      "weighted avg       0.82      0.82      0.81      1000\n",
      "\n"
     ]
    }
   ],
   "source": [
    "# model_0 fine tune\n",
    "from sklearn.metrics import classification_report\n",
    "from sklearn.metrics import accuracy_score\n",
    "from sklearn.metrics import confusion_matrix\n",
    "\n",
    "y_pred = pred.argmax(axis=-1)\n",
    "y_true = [np.argmax(p) for p in trainy[5000:]]\n",
    "#finetune 1\n",
    "print(classification_report(y_true, y_pred))\n",
    "matrix = confusion_matrix(y_true, y_pred)\n",
    "acceach1=matrix.diagonal()/matrix.sum(axis=1)"
   ]
  },
  {
   "cell_type": "code",
   "execution_count": 93,
   "metadata": {},
   "outputs": [
    {
     "name": "stdout",
     "output_type": "stream",
     "text": [
      "[[445  51]\n",
      " [133 371]]\n"
     ]
    }
   ],
   "source": [
    "print(matrix)"
   ]
  },
  {
   "cell_type": "code",
   "execution_count": 76,
   "metadata": {},
   "outputs": [],
   "source": [
    "from keras.utils.vis_utils import plot_model\n",
    "plot_model(model, show_shapes=True, to_file='1DTamiru.png')"
   ]
  },
  {
   "cell_type": "code",
   "execution_count": 98,
   "metadata": {},
   "outputs": [
    {
     "data": {
      "image/png": "[encoded data removed]",
      "text/plain": [
       "<Figure size 432x288 with 1 Axes>"
      ]
     },
     "metadata": {
      "needs_background": "light"
     },
     "output_type": "display_data"
    }
   ],
   "source": [
    "import  matplotlib.pyplot as plt\n",
    "\n",
    "def autolabel(rectangle_group):\n",
    "\tfor rect in rectangle_group:\n",
    "\t\theight = rect.get_height()\n",
    "\n",
    "\t\tax.annotate(str(height),\n",
    "\t\t\txy = (rect.get_x() + rect.get_width() / 2,height),\n",
    "\t\t\tha = 'center',\n",
    "\t\t\txytext = (0,3),textcoords = 'offset points',\n",
    "\t\t\tcolor = 'grey')\n",
    "        \n",
    "\n",
    "phases      = ['SVM','DT','KKN','XBoot']\n",
    "playstation = [102      , 155      , 87     , 110       ]\n",
    "xbox        = [0        , 24       , 86     , 50        ]\n",
    "nintendo    = [33       , 22       , 102    , 62        ]\n",
    "pc_sales    = [71       , 128      , 105    , 100      ]\n",
    "\n",
    "# MSE = [102      , 155      , 87     , 110       ]\n",
    "# MAE        = [0        , 24       , 86     , 50        ]\n",
    "# RMSE    = [33       , 22       , 102    , 62        ]\n",
    "# R2    = [71       , 128      , 240    , 316       ]\n",
    "\n",
    "\n",
    "width = 0.2\n",
    "x_playstation = [x - width for x in range(len(playstation))]\n",
    "x_xbox        = [x for x in range(len(xbox))]\n",
    "x_nintendo = [x + width for x in range(len(nintendo))]\n",
    "\n",
    "fig,ax = plt.subplots()\n",
    "\n",
    "rect1 = ax.bar(x_playstation, playstation,width, label = 'Playstation',color = 'darkslategray')\n",
    "rect2 = ax.bar(x_xbox,xbox,width,label = 'XBox',color = 'limegreen')\n",
    "rect3 = ax.bar(x_nintendo,nintendo,width,label = 'Nintendo',color = 'crimson')\n",
    "ax.plot(phases,pc_sales,label = 'PC Sales',color = 'black',marker = 'o')\n",
    "\n",
    "ax.set_title('The hardware market')\n",
    "ax.set_ylabel('Total sales (in millions)')\n",
    "ax.legend()\n",
    "\n",
    "autolabel(rect1)\n",
    "autolabel(rect2)\n",
    "autolabel(rect3)\n",
    "\n",
    "plt.show()"
   ]
  },
  {
   "cell_type": "code",
   "execution_count": null,
   "metadata": {},
   "outputs": [],
   "source": []
  }
 ],
 "metadata": {
  "kernelspec": {
   "display_name": "Python 3 (ipykernel)",
   "language": "python",
   "name": "python3"
  },
  "language_info": {
   "codemirror_mode": {
    "name": "ipython",
    "version": 3
   },
   "file_extension": ".py",
   "mimetype": "text/x-python",
   "name": "python",
   "nbconvert_exporter": "python",
   "pygments_lexer": "ipython3",
   "version": "3.8.10"
  }
 },
 "nbformat": 4,
 "nbformat_minor": 4
}

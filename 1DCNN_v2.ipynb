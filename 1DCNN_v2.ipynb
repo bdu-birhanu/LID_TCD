{
 "cells": [
  {
   "cell_type": "code",
   "execution_count": 231,
   "metadata": {},
   "outputs": [],
   "source": [
    "\n",
    "# cnn model\n",
    "from numpy import mean\n",
    "from numpy import std\n",
    "from numpy import dstack\n",
    "from pandas import read_csv\n",
    "from matplotlib import pyplot\n",
    "import matplotlib.pyplot as plt\n",
    "from tensorflow.keras.models import Sequential\n",
    "from keras.layers import Dense, Input\n",
    "from keras.layers import Flatten\n",
    "from keras.layers import Dropout\n",
    "from keras.layers.convolutional import Conv1D\n",
    "from keras.layers.convolutional import MaxPooling1D\n",
    "from keras.utils import to_categorical\n",
    "import pandas as pd\n",
    "from keras.layers import LSTM,Bidirectional,Input,Dense,Activation,Dropout,Flatten, Dot\n",
    "from keras.models import Model\n",
    "import tensorflow as tf\n",
    "from sklearn.model_selection import train_test_split "
   ]
  },
  {
   "cell_type": "code",
   "execution_count": 232,
   "metadata": {},
   "outputs": [],
   "source": [
    "from tensorflow.keras.models import Sequential"
   ]
  },
  {
   "cell_type": "code",
   "execution_count": 233,
   "metadata": {},
   "outputs": [],
   "source": [
    "from tensorflow.keras.layers import Dense\n",
    "from tensorflow.keras.layers import Flatten"
   ]
  },
  {
   "cell_type": "code",
   "execution_count": 234,
   "metadata": {},
   "outputs": [],
   "source": [
    "from tensorflow.keras.layers import Dropout\n",
    "\n",
    "from keras.utils import to_categorical\n",
    "import tensorflow as tf"
   ]
  },
  {
   "cell_type": "code",
   "execution_count": 235,
   "metadata": {},
   "outputs": [],
   "source": [
    "data1 = pd.read_csv(\"/media/nbm/2D08-2980/ICT4D/Historical_code/Again.csv\")"
   ]
  },
  {
   "cell_type": "code",
   "execution_count": 165,
   "metadata": {},
   "outputs": [
    {
     "data": {
      "text/html": [
       "<div>\n",
       "<style scoped>\n",
       "    .dataframe tbody tr th:only-of-type {\n",
       "        vertical-align: middle;\n",
       "    }\n",
       "\n",
       "    .dataframe tbody tr th {\n",
       "        vertical-align: top;\n",
       "    }\n",
       "\n",
       "    .dataframe thead th {\n",
       "        text-align: right;\n",
       "    }\n",
       "</style>\n",
       "<table border=\"1\" class=\"dataframe\">\n",
       "  <thead>\n",
       "    <tr style=\"text-align: right;\">\n",
       "      <th></th>\n",
       "      <th>Age</th>\n",
       "      <th>Gender</th>\n",
       "      <th>Marital_Status</th>\n",
       "      <th>Job</th>\n",
       "      <th>Education</th>\n",
       "      <th>Work_Experience</th>\n",
       "      <th>Type_of_Loan</th>\n",
       "      <th>Annual_Income</th>\n",
       "      <th>Coapplicant_Income</th>\n",
       "      <th>Total_Income</th>\n",
       "      <th>Duration_of_Loan</th>\n",
       "      <th>A</th>\n",
       "      <th>Loan_History</th>\n",
       "      <th>Loan_Grade</th>\n",
       "      <th>Amount_of_Loan</th>\n",
       "      <th>Loan_int_rate</th>\n",
       "      <th>Loan_Status</th>\n",
       "    </tr>\n",
       "  </thead>\n",
       "  <tbody>\n",
       "    <tr>\n",
       "      <th>0</th>\n",
       "      <td>22</td>\n",
       "      <td>0</td>\n",
       "      <td>1</td>\n",
       "      <td>0</td>\n",
       "      <td>1</td>\n",
       "      <td>3</td>\n",
       "      <td>0</td>\n",
       "      <td>59000</td>\n",
       "      <td>11500</td>\n",
       "      <td>70500</td>\n",
       "      <td>180</td>\n",
       "      <td>0</td>\n",
       "      <td>1</td>\n",
       "      <td>3</td>\n",
       "      <td>35000</td>\n",
       "      <td>16.02</td>\n",
       "      <td>1</td>\n",
       "    </tr>\n",
       "    <tr>\n",
       "      <th>1</th>\n",
       "      <td>21</td>\n",
       "      <td>0</td>\n",
       "      <td>0</td>\n",
       "      <td>1</td>\n",
       "      <td>0</td>\n",
       "      <td>5</td>\n",
       "      <td>1</td>\n",
       "      <td>9600</td>\n",
       "      <td>3000</td>\n",
       "      <td>12600</td>\n",
       "      <td>300</td>\n",
       "      <td>0</td>\n",
       "      <td>2</td>\n",
       "      <td>1</td>\n",
       "      <td>1000</td>\n",
       "      <td>11.14</td>\n",
       "      <td>0</td>\n",
       "    </tr>\n",
       "    <tr>\n",
       "      <th>2</th>\n",
       "      <td>25</td>\n",
       "      <td>0</td>\n",
       "      <td>0</td>\n",
       "      <td>0</td>\n",
       "      <td>1</td>\n",
       "      <td>1</td>\n",
       "      <td>1</td>\n",
       "      <td>9600</td>\n",
       "      <td>16500</td>\n",
       "      <td>26100</td>\n",
       "      <td>300</td>\n",
       "      <td>0</td>\n",
       "      <td>3</td>\n",
       "      <td>2</td>\n",
       "      <td>5500</td>\n",
       "      <td>12.87</td>\n",
       "      <td>1</td>\n",
       "    </tr>\n",
       "    <tr>\n",
       "      <th>3</th>\n",
       "      <td>23</td>\n",
       "      <td>0</td>\n",
       "      <td>0</td>\n",
       "      <td>2</td>\n",
       "      <td>0</td>\n",
       "      <td>4</td>\n",
       "      <td>1</td>\n",
       "      <td>65500</td>\n",
       "      <td>16425</td>\n",
       "      <td>81925</td>\n",
       "      <td>300</td>\n",
       "      <td>0</td>\n",
       "      <td>3</td>\n",
       "      <td>2</td>\n",
       "      <td>35000</td>\n",
       "      <td>15.23</td>\n",
       "      <td>1</td>\n",
       "    </tr>\n",
       "    <tr>\n",
       "      <th>4</th>\n",
       "      <td>24</td>\n",
       "      <td>1</td>\n",
       "      <td>1</td>\n",
       "      <td>3</td>\n",
       "      <td>0</td>\n",
       "      <td>8</td>\n",
       "      <td>2</td>\n",
       "      <td>54400</td>\n",
       "      <td>16400</td>\n",
       "      <td>70800</td>\n",
       "      <td>144</td>\n",
       "      <td>0</td>\n",
       "      <td>3</td>\n",
       "      <td>2</td>\n",
       "      <td>35000</td>\n",
       "      <td>14.27</td>\n",
       "      <td>1</td>\n",
       "    </tr>\n",
       "    <tr>\n",
       "      <th>...</th>\n",
       "      <td>...</td>\n",
       "      <td>...</td>\n",
       "      <td>...</td>\n",
       "      <td>...</td>\n",
       "      <td>...</td>\n",
       "      <td>...</td>\n",
       "      <td>...</td>\n",
       "      <td>...</td>\n",
       "      <td>...</td>\n",
       "      <td>...</td>\n",
       "      <td>...</td>\n",
       "      <td>...</td>\n",
       "      <td>...</td>\n",
       "      <td>...</td>\n",
       "      <td>...</td>\n",
       "      <td>...</td>\n",
       "      <td>...</td>\n",
       "    </tr>\n",
       "    <tr>\n",
       "      <th>5995</th>\n",
       "      <td>26</td>\n",
       "      <td>1</td>\n",
       "      <td>0</td>\n",
       "      <td>0</td>\n",
       "      <td>0</td>\n",
       "      <td>0</td>\n",
       "      <td>3</td>\n",
       "      <td>47000</td>\n",
       "      <td>2500</td>\n",
       "      <td>49500</td>\n",
       "      <td>60</td>\n",
       "      <td>0</td>\n",
       "      <td>3</td>\n",
       "      <td>0</td>\n",
       "      <td>16500</td>\n",
       "      <td>6.92</td>\n",
       "      <td>1</td>\n",
       "    </tr>\n",
       "    <tr>\n",
       "      <th>5996</th>\n",
       "      <td>23</td>\n",
       "      <td>0</td>\n",
       "      <td>1</td>\n",
       "      <td>0</td>\n",
       "      <td>2</td>\n",
       "      <td>5</td>\n",
       "      <td>1</td>\n",
       "      <td>47000</td>\n",
       "      <td>2500</td>\n",
       "      <td>49500</td>\n",
       "      <td>60</td>\n",
       "      <td>0</td>\n",
       "      <td>4</td>\n",
       "      <td>1</td>\n",
       "      <td>16500</td>\n",
       "      <td>10.62</td>\n",
       "      <td>1</td>\n",
       "    </tr>\n",
       "    <tr>\n",
       "      <th>5997</th>\n",
       "      <td>22</td>\n",
       "      <td>0</td>\n",
       "      <td>1</td>\n",
       "      <td>0</td>\n",
       "      <td>2</td>\n",
       "      <td>6</td>\n",
       "      <td>1</td>\n",
       "      <td>48000</td>\n",
       "      <td>3250</td>\n",
       "      <td>51250</td>\n",
       "      <td>60</td>\n",
       "      <td>0</td>\n",
       "      <td>3</td>\n",
       "      <td>0</td>\n",
       "      <td>16500</td>\n",
       "      <td>8.90</td>\n",
       "      <td>1</td>\n",
       "    </tr>\n",
       "    <tr>\n",
       "      <th>5998</th>\n",
       "      <td>25</td>\n",
       "      <td>0</td>\n",
       "      <td>1</td>\n",
       "      <td>0</td>\n",
       "      <td>1</td>\n",
       "      <td>2</td>\n",
       "      <td>3</td>\n",
       "      <td>25000</td>\n",
       "      <td>2500</td>\n",
       "      <td>27500</td>\n",
       "      <td>120</td>\n",
       "      <td>0</td>\n",
       "      <td>4</td>\n",
       "      <td>0</td>\n",
       "      <td>1500</td>\n",
       "      <td>6.76</td>\n",
       "      <td>0</td>\n",
       "    </tr>\n",
       "    <tr>\n",
       "      <th>5999</th>\n",
       "      <td>25</td>\n",
       "      <td>1</td>\n",
       "      <td>0</td>\n",
       "      <td>1</td>\n",
       "      <td>0</td>\n",
       "      <td>0</td>\n",
       "      <td>3</td>\n",
       "      <td>56000</td>\n",
       "      <td>2500</td>\n",
       "      <td>58500</td>\n",
       "      <td>300</td>\n",
       "      <td>0</td>\n",
       "      <td>5</td>\n",
       "      <td>3</td>\n",
       "      <td>16500</td>\n",
       "      <td>12.80</td>\n",
       "      <td>1</td>\n",
       "    </tr>\n",
       "  </tbody>\n",
       "</table>\n",
       "<p>6000 rows × 17 columns</p>\n",
       "</div>"
      ],
      "text/plain": [
       "      Age  Gender  Marital_Status  Job  Education  Work_Experience  \\\n",
       "0      22       0               1    0          1                3   \n",
       "1      21       0               0    1          0                5   \n",
       "2      25       0               0    0          1                1   \n",
       "3      23       0               0    2          0                4   \n",
       "4      24       1               1    3          0                8   \n",
       "...   ...     ...             ...  ...        ...              ...   \n",
       "5995   26       1               0    0          0                0   \n",
       "5996   23       0               1    0          2                5   \n",
       "5997   22       0               1    0          2                6   \n",
       "5998   25       0               1    0          1                2   \n",
       "5999   25       1               0    1          0                0   \n",
       "\n",
       "      Type_of_Loan  Annual_Income  Coapplicant_Income  Total_Income  \\\n",
       "0                0          59000               11500         70500   \n",
       "1                1           9600                3000         12600   \n",
       "2                1           9600               16500         26100   \n",
       "3                1          65500               16425         81925   \n",
       "4                2          54400               16400         70800   \n",
       "...            ...            ...                 ...           ...   \n",
       "5995             3          47000                2500         49500   \n",
       "5996             1          47000                2500         49500   \n",
       "5997             1          48000                3250         51250   \n",
       "5998             3          25000                2500         27500   \n",
       "5999             3          56000                2500         58500   \n",
       "\n",
       "      Duration_of_Loan  A  Loan_History  Loan_Grade  Amount_of_Loan  \\\n",
       "0                  180  0             1           3           35000   \n",
       "1                  300  0             2           1            1000   \n",
       "2                  300  0             3           2            5500   \n",
       "3                  300  0             3           2           35000   \n",
       "4                  144  0             3           2           35000   \n",
       "...                ... ..           ...         ...             ...   \n",
       "5995                60  0             3           0           16500   \n",
       "5996                60  0             4           1           16500   \n",
       "5997                60  0             3           0           16500   \n",
       "5998               120  0             4           0            1500   \n",
       "5999               300  0             5           3           16500   \n",
       "\n",
       "      Loan_int_rate  Loan_Status  \n",
       "0             16.02            1  \n",
       "1             11.14            0  \n",
       "2             12.87            1  \n",
       "3             15.23            1  \n",
       "4             14.27            1  \n",
       "...             ...          ...  \n",
       "5995           6.92            1  \n",
       "5996          10.62            1  \n",
       "5997           8.90            1  \n",
       "5998           6.76            0  \n",
       "5999          12.80            1  \n",
       "\n",
       "[6000 rows x 17 columns]"
      ]
     },
     "execution_count": 165,
     "metadata": {},
     "output_type": "execute_result"
    }
   ],
   "source": [
    "data1"
   ]
  },
  {
   "cell_type": "code",
   "execution_count": 166,
   "metadata": {},
   "outputs": [],
   "source": [
    "data = data1.drop(columns=['Loan_Status'])"
   ]
  },
  {
   "cell_type": "code",
   "execution_count": 167,
   "metadata": {},
   "outputs": [
    {
     "name": "stdout",
     "output_type": "stream",
     "text": [
      "[[2.200e+01 0.000e+00 1.000e+00 ... 3.000e+00 3.500e+04 1.602e+01]\n",
      " [2.100e+01 0.000e+00 0.000e+00 ... 1.000e+00 1.000e+03 1.114e+01]\n",
      " [2.500e+01 0.000e+00 0.000e+00 ... 2.000e+00 5.500e+03 1.287e+01]\n",
      " ...\n",
      " [2.200e+01 0.000e+00 1.000e+00 ... 0.000e+00 1.650e+04 8.900e+00]\n",
      " [2.500e+01 0.000e+00 1.000e+00 ... 0.000e+00 1.500e+03 6.760e+00]\n",
      " [2.500e+01 1.000e+00 0.000e+00 ... 3.000e+00 1.650e+04 1.280e+01]]\n"
     ]
    }
   ],
   "source": [
    "x = data1.iloc[:, :-1].values\n",
    "print(x)"
   ]
  },
  {
   "cell_type": "code",
   "execution_count": 168,
   "metadata": {},
   "outputs": [],
   "source": [
    "data=x"
   ]
  },
  {
   "cell_type": "code",
   "execution_count": 169,
   "metadata": {},
   "outputs": [
    {
     "name": "stdout",
     "output_type": "stream",
     "text": [
      "[1 0 1 ... 1 0 1]\n"
     ]
    }
   ],
   "source": [
    "y = data1.iloc[:, -1].values\n",
    "print(y)"
   ]
  },
  {
   "cell_type": "code",
   "execution_count": 170,
   "metadata": {},
   "outputs": [
    {
     "data": {
      "text/plain": [
       "(6000,)"
      ]
     },
     "execution_count": 170,
     "metadata": {},
     "output_type": "execute_result"
    }
   ],
   "source": [
    "y.shape"
   ]
  },
  {
   "cell_type": "code",
   "execution_count": 171,
   "metadata": {},
   "outputs": [
    {
     "data": {
      "text/plain": [
       "(6000, 16)"
      ]
     },
     "execution_count": 171,
     "metadata": {},
     "output_type": "execute_result"
    }
   ],
   "source": [
    "data.shape"
   ]
  },
  {
   "cell_type": "code",
   "execution_count": 172,
   "metadata": {},
   "outputs": [],
   "source": [
    "datay=pd.read_csv('/media/nbm/2D08-2980/ICT4D/Historical_code/Again.csv',index_col='Loan_Status')"
   ]
  },
  {
   "cell_type": "code",
   "execution_count": 173,
   "metadata": {},
   "outputs": [
    {
     "data": {
      "text/html": [
       "<div>\n",
       "<style scoped>\n",
       "    .dataframe tbody tr th:only-of-type {\n",
       "        vertical-align: middle;\n",
       "    }\n",
       "\n",
       "    .dataframe tbody tr th {\n",
       "        vertical-align: top;\n",
       "    }\n",
       "\n",
       "    .dataframe thead th {\n",
       "        text-align: right;\n",
       "    }\n",
       "</style>\n",
       "<table border=\"1\" class=\"dataframe\">\n",
       "  <thead>\n",
       "    <tr style=\"text-align: right;\">\n",
       "      <th></th>\n",
       "      <th>Age</th>\n",
       "      <th>Gender</th>\n",
       "      <th>Marital_Status</th>\n",
       "      <th>Job</th>\n",
       "      <th>Education</th>\n",
       "      <th>Work_Experience</th>\n",
       "      <th>Type_of_Loan</th>\n",
       "      <th>Annual_Income</th>\n",
       "      <th>Coapplicant_Income</th>\n",
       "      <th>Total_Income</th>\n",
       "      <th>Duration_of_Loan</th>\n",
       "      <th>A</th>\n",
       "      <th>Loan_History</th>\n",
       "      <th>Loan_Grade</th>\n",
       "      <th>Amount_of_Loan</th>\n",
       "      <th>Loan_int_rate</th>\n",
       "    </tr>\n",
       "    <tr>\n",
       "      <th>Loan_Status</th>\n",
       "      <th></th>\n",
       "      <th></th>\n",
       "      <th></th>\n",
       "      <th></th>\n",
       "      <th></th>\n",
       "      <th></th>\n",
       "      <th></th>\n",
       "      <th></th>\n",
       "      <th></th>\n",
       "      <th></th>\n",
       "      <th></th>\n",
       "      <th></th>\n",
       "      <th></th>\n",
       "      <th></th>\n",
       "      <th></th>\n",
       "      <th></th>\n",
       "    </tr>\n",
       "  </thead>\n",
       "  <tbody>\n",
       "    <tr>\n",
       "      <th>1</th>\n",
       "      <td>22</td>\n",
       "      <td>0</td>\n",
       "      <td>1</td>\n",
       "      <td>0</td>\n",
       "      <td>1</td>\n",
       "      <td>3</td>\n",
       "      <td>0</td>\n",
       "      <td>59000</td>\n",
       "      <td>11500</td>\n",
       "      <td>70500</td>\n",
       "      <td>180</td>\n",
       "      <td>0</td>\n",
       "      <td>1</td>\n",
       "      <td>3</td>\n",
       "      <td>35000</td>\n",
       "      <td>16.02</td>\n",
       "    </tr>\n",
       "    <tr>\n",
       "      <th>0</th>\n",
       "      <td>21</td>\n",
       "      <td>0</td>\n",
       "      <td>0</td>\n",
       "      <td>1</td>\n",
       "      <td>0</td>\n",
       "      <td>5</td>\n",
       "      <td>1</td>\n",
       "      <td>9600</td>\n",
       "      <td>3000</td>\n",
       "      <td>12600</td>\n",
       "      <td>300</td>\n",
       "      <td>0</td>\n",
       "      <td>2</td>\n",
       "      <td>1</td>\n",
       "      <td>1000</td>\n",
       "      <td>11.14</td>\n",
       "    </tr>\n",
       "    <tr>\n",
       "      <th>1</th>\n",
       "      <td>25</td>\n",
       "      <td>0</td>\n",
       "      <td>0</td>\n",
       "      <td>0</td>\n",
       "      <td>1</td>\n",
       "      <td>1</td>\n",
       "      <td>1</td>\n",
       "      <td>9600</td>\n",
       "      <td>16500</td>\n",
       "      <td>26100</td>\n",
       "      <td>300</td>\n",
       "      <td>0</td>\n",
       "      <td>3</td>\n",
       "      <td>2</td>\n",
       "      <td>5500</td>\n",
       "      <td>12.87</td>\n",
       "    </tr>\n",
       "    <tr>\n",
       "      <th>1</th>\n",
       "      <td>23</td>\n",
       "      <td>0</td>\n",
       "      <td>0</td>\n",
       "      <td>2</td>\n",
       "      <td>0</td>\n",
       "      <td>4</td>\n",
       "      <td>1</td>\n",
       "      <td>65500</td>\n",
       "      <td>16425</td>\n",
       "      <td>81925</td>\n",
       "      <td>300</td>\n",
       "      <td>0</td>\n",
       "      <td>3</td>\n",
       "      <td>2</td>\n",
       "      <td>35000</td>\n",
       "      <td>15.23</td>\n",
       "    </tr>\n",
       "    <tr>\n",
       "      <th>1</th>\n",
       "      <td>24</td>\n",
       "      <td>1</td>\n",
       "      <td>1</td>\n",
       "      <td>3</td>\n",
       "      <td>0</td>\n",
       "      <td>8</td>\n",
       "      <td>2</td>\n",
       "      <td>54400</td>\n",
       "      <td>16400</td>\n",
       "      <td>70800</td>\n",
       "      <td>144</td>\n",
       "      <td>0</td>\n",
       "      <td>3</td>\n",
       "      <td>2</td>\n",
       "      <td>35000</td>\n",
       "      <td>14.27</td>\n",
       "    </tr>\n",
       "    <tr>\n",
       "      <th>...</th>\n",
       "      <td>...</td>\n",
       "      <td>...</td>\n",
       "      <td>...</td>\n",
       "      <td>...</td>\n",
       "      <td>...</td>\n",
       "      <td>...</td>\n",
       "      <td>...</td>\n",
       "      <td>...</td>\n",
       "      <td>...</td>\n",
       "      <td>...</td>\n",
       "      <td>...</td>\n",
       "      <td>...</td>\n",
       "      <td>...</td>\n",
       "      <td>...</td>\n",
       "      <td>...</td>\n",
       "      <td>...</td>\n",
       "    </tr>\n",
       "    <tr>\n",
       "      <th>1</th>\n",
       "      <td>26</td>\n",
       "      <td>1</td>\n",
       "      <td>0</td>\n",
       "      <td>0</td>\n",
       "      <td>0</td>\n",
       "      <td>0</td>\n",
       "      <td>3</td>\n",
       "      <td>47000</td>\n",
       "      <td>2500</td>\n",
       "      <td>49500</td>\n",
       "      <td>60</td>\n",
       "      <td>0</td>\n",
       "      <td>3</td>\n",
       "      <td>0</td>\n",
       "      <td>16500</td>\n",
       "      <td>6.92</td>\n",
       "    </tr>\n",
       "    <tr>\n",
       "      <th>1</th>\n",
       "      <td>23</td>\n",
       "      <td>0</td>\n",
       "      <td>1</td>\n",
       "      <td>0</td>\n",
       "      <td>2</td>\n",
       "      <td>5</td>\n",
       "      <td>1</td>\n",
       "      <td>47000</td>\n",
       "      <td>2500</td>\n",
       "      <td>49500</td>\n",
       "      <td>60</td>\n",
       "      <td>0</td>\n",
       "      <td>4</td>\n",
       "      <td>1</td>\n",
       "      <td>16500</td>\n",
       "      <td>10.62</td>\n",
       "    </tr>\n",
       "    <tr>\n",
       "      <th>1</th>\n",
       "      <td>22</td>\n",
       "      <td>0</td>\n",
       "      <td>1</td>\n",
       "      <td>0</td>\n",
       "      <td>2</td>\n",
       "      <td>6</td>\n",
       "      <td>1</td>\n",
       "      <td>48000</td>\n",
       "      <td>3250</td>\n",
       "      <td>51250</td>\n",
       "      <td>60</td>\n",
       "      <td>0</td>\n",
       "      <td>3</td>\n",
       "      <td>0</td>\n",
       "      <td>16500</td>\n",
       "      <td>8.90</td>\n",
       "    </tr>\n",
       "    <tr>\n",
       "      <th>0</th>\n",
       "      <td>25</td>\n",
       "      <td>0</td>\n",
       "      <td>1</td>\n",
       "      <td>0</td>\n",
       "      <td>1</td>\n",
       "      <td>2</td>\n",
       "      <td>3</td>\n",
       "      <td>25000</td>\n",
       "      <td>2500</td>\n",
       "      <td>27500</td>\n",
       "      <td>120</td>\n",
       "      <td>0</td>\n",
       "      <td>4</td>\n",
       "      <td>0</td>\n",
       "      <td>1500</td>\n",
       "      <td>6.76</td>\n",
       "    </tr>\n",
       "    <tr>\n",
       "      <th>1</th>\n",
       "      <td>25</td>\n",
       "      <td>1</td>\n",
       "      <td>0</td>\n",
       "      <td>1</td>\n",
       "      <td>0</td>\n",
       "      <td>0</td>\n",
       "      <td>3</td>\n",
       "      <td>56000</td>\n",
       "      <td>2500</td>\n",
       "      <td>58500</td>\n",
       "      <td>300</td>\n",
       "      <td>0</td>\n",
       "      <td>5</td>\n",
       "      <td>3</td>\n",
       "      <td>16500</td>\n",
       "      <td>12.80</td>\n",
       "    </tr>\n",
       "  </tbody>\n",
       "</table>\n",
       "<p>6000 rows × 16 columns</p>\n",
       "</div>"
      ],
      "text/plain": [
       "             Age  Gender  Marital_Status  Job  Education  Work_Experience  \\\n",
       "Loan_Status                                                                 \n",
       "1             22       0               1    0          1                3   \n",
       "0             21       0               0    1          0                5   \n",
       "1             25       0               0    0          1                1   \n",
       "1             23       0               0    2          0                4   \n",
       "1             24       1               1    3          0                8   \n",
       "...          ...     ...             ...  ...        ...              ...   \n",
       "1             26       1               0    0          0                0   \n",
       "1             23       0               1    0          2                5   \n",
       "1             22       0               1    0          2                6   \n",
       "0             25       0               1    0          1                2   \n",
       "1             25       1               0    1          0                0   \n",
       "\n",
       "             Type_of_Loan  Annual_Income  Coapplicant_Income  Total_Income  \\\n",
       "Loan_Status                                                                  \n",
       "1                       0          59000               11500         70500   \n",
       "0                       1           9600                3000         12600   \n",
       "1                       1           9600               16500         26100   \n",
       "1                       1          65500               16425         81925   \n",
       "1                       2          54400               16400         70800   \n",
       "...                   ...            ...                 ...           ...   \n",
       "1                       3          47000                2500         49500   \n",
       "1                       1          47000                2500         49500   \n",
       "1                       1          48000                3250         51250   \n",
       "0                       3          25000                2500         27500   \n",
       "1                       3          56000                2500         58500   \n",
       "\n",
       "             Duration_of_Loan  A  Loan_History  Loan_Grade  Amount_of_Loan  \\\n",
       "Loan_Status                                                                  \n",
       "1                         180  0             1           3           35000   \n",
       "0                         300  0             2           1            1000   \n",
       "1                         300  0             3           2            5500   \n",
       "1                         300  0             3           2           35000   \n",
       "1                         144  0             3           2           35000   \n",
       "...                       ... ..           ...         ...             ...   \n",
       "1                          60  0             3           0           16500   \n",
       "1                          60  0             4           1           16500   \n",
       "1                          60  0             3           0           16500   \n",
       "0                         120  0             4           0            1500   \n",
       "1                         300  0             5           3           16500   \n",
       "\n",
       "             Loan_int_rate  \n",
       "Loan_Status                 \n",
       "1                    16.02  \n",
       "0                    11.14  \n",
       "1                    12.87  \n",
       "1                    15.23  \n",
       "1                    14.27  \n",
       "...                    ...  \n",
       "1                     6.92  \n",
       "1                    10.62  \n",
       "1                     8.90  \n",
       "0                     6.76  \n",
       "1                    12.80  \n",
       "\n",
       "[6000 rows x 16 columns]"
      ]
     },
     "execution_count": 173,
     "metadata": {},
     "output_type": "execute_result"
    }
   ],
   "source": [
    "datay"
   ]
  },
  {
   "cell_type": "code",
   "execution_count": 174,
   "metadata": {},
   "outputs": [],
   "source": [
    "x_train_r=data.reshape(data.shape[0], 1, data.shape[1]) "
   ]
  },
  {
   "cell_type": "code",
   "execution_count": 175,
   "metadata": {},
   "outputs": [
    {
     "data": {
      "text/plain": [
       "(6000, 1, 16)"
      ]
     },
     "execution_count": 175,
     "metadata": {},
     "output_type": "execute_result"
    }
   ],
   "source": [
    "x_train_r.shape"
   ]
  },
  {
   "cell_type": "code",
   "execution_count": 176,
   "metadata": {},
   "outputs": [],
   "source": [
    "n_timesteps,n_features=x_train_r.shape[1],x_train_r.shape[2]"
   ]
  },
  {
   "cell_type": "code",
   "execution_count": 177,
   "metadata": {},
   "outputs": [
    {
     "name": "stdout",
     "output_type": "stream",
     "text": [
      "16\n"
     ]
    }
   ],
   "source": [
    "print(n_features)"
   ]
  },
  {
   "cell_type": "code",
   "execution_count": 179,
   "metadata": {},
   "outputs": [],
   "source": [
    "trainy = to_categorical(y)"
   ]
  },
  {
   "cell_type": "code",
   "execution_count": 180,
   "metadata": {},
   "outputs": [
    {
     "data": {
      "text/plain": [
       "array([[0., 1.],\n",
       "       [1., 0.],\n",
       "       [0., 1.],\n",
       "       ...,\n",
       "       [0., 1.],\n",
       "       [1., 0.],\n",
       "       [0., 1.]], dtype=float32)"
      ]
     },
     "execution_count": 180,
     "metadata": {},
     "output_type": "execute_result"
    }
   ],
   "source": [
    "trainy"
   ]
  },
  {
   "cell_type": "code",
   "execution_count": 181,
   "metadata": {},
   "outputs": [],
   "source": [
    "x_train, x_test, y_train, y_test = train_test_split(x_train_r, trainy, test_size=0.2)"
   ]
  },
  {
   "cell_type": "code",
   "execution_count": 182,
   "metadata": {},
   "outputs": [
    {
     "data": {
      "text/plain": [
       "array([[0., 1.],\n",
       "       [0., 1.],\n",
       "       [1., 0.],\n",
       "       ...,\n",
       "       [1., 0.],\n",
       "       [0., 1.],\n",
       "       [0., 1.]], dtype=float32)"
      ]
     },
     "execution_count": 182,
     "metadata": {},
     "output_type": "execute_result"
    }
   ],
   "source": [
    "y_test"
   ]
  },
  {
   "cell_type": "code",
   "execution_count": 26,
   "metadata": {},
   "outputs": [],
   "source": [
    "n_outputs=2"
   ]
  },
  {
   "cell_type": "code",
   "execution_count": 27,
   "metadata": {},
   "outputs": [
    {
     "name": "stderr",
     "output_type": "stream",
     "text": [
      "2022-06-24 14:46:44.960388: I tensorflow/core/platform/cpu_feature_guard.cc:142] This TensorFlow binary is optimized with oneAPI Deep Neural Network Library (oneDNN) to use the following CPU instructions in performance-critical operations:  AVX2 FMA\n",
      "To enable them in other operations, rebuild TensorFlow with the appropriate compiler flags.\n"
     ]
    }
   ],
   "source": [
    "model = Sequential()\n",
    "model.add(tf.keras.layers.Conv1D(filters=32, kernel_size=1, activation='relu', input_shape=(n_timesteps,n_features)))\n",
    "model.add(tf.keras.layers.Conv1D(filters=32, kernel_size=1, activation='relu'))\n",
    "model.add(Dropout(0.5))\n",
    "model.add(tf.keras.layers.MaxPool1D(pool_size=1))\n",
    "model.add(Flatten())\n",
    "model.add(Dense(100, activation='relu'))\n",
    "model.add(Dense(n_outputs, activation='softmax'))\n",
    "model.compile(loss='categorical_crossentropy', optimizer='adam', metrics=['accuracy'])"
   ]
  },
  {
   "cell_type": "code",
   "execution_count": null,
   "metadata": {},
   "outputs": [],
   "source": []
  },
  {
   "cell_type": "code",
   "execution_count": 278,
   "metadata": {},
   "outputs": [],
   "source": [
    "#LSTM\n",
    "input_shape=(n_timesteps,n_features)\n",
    "input_data = tf.keras.layers.Input(name='input', shape=input_shape, dtype='float32')\n",
    "lstm = tf.keras.layers.LSTM(128, return_sequences=False, return_state=False)(input_data)\n",
    "fc = Flatten()(lstm) \n",
    "outputs = Dense(n_outputs, activation='softmax')(fc)\n"
   ]
  },
  {
   "cell_type": "code",
   "execution_count": 279,
   "metadata": {},
   "outputs": [],
   "source": [
    "model_lstm = tf.keras.models.Model(input_data, outputs)"
   ]
  },
  {
   "cell_type": "code",
   "execution_count": 280,
   "metadata": {},
   "outputs": [],
   "source": [
    "model_lstm.compile(loss='categorical_crossentropy', optimizer='adam', metrics=['accuracy'])"
   ]
  },
  {
   "cell_type": "code",
   "execution_count": 281,
   "metadata": {},
   "outputs": [
    {
     "name": "stdout",
     "output_type": "stream",
     "text": [
      "Epoch 1/10\n",
      "300/300 [==============================] - 1s 1ms/step - loss: 0.6567 - accuracy: 0.6304\n",
      "Epoch 2/10\n",
      "300/300 [==============================] - 0s 1ms/step - loss: 0.6459 - accuracy: 0.6519\n",
      "Epoch 3/10\n",
      "300/300 [==============================] - 0s 1ms/step - loss: 0.6774 - accuracy: 0.5754\n",
      "Epoch 4/10\n",
      "300/300 [==============================] - 0s 1ms/step - loss: 0.6876 - accuracy: 0.5296\n",
      "Epoch 5/10\n",
      "300/300 [==============================] - 0s 1ms/step - loss: 0.6862 - accuracy: 0.5242\n",
      "Epoch 6/10\n",
      "300/300 [==============================] - 0s 1ms/step - loss: 0.6839 - accuracy: 0.5450\n",
      "Epoch 7/10\n",
      "300/300 [==============================] - 0s 1ms/step - loss: 0.6833 - accuracy: 0.5446\n",
      "Epoch 8/10\n",
      "300/300 [==============================] - 0s 1ms/step - loss: 0.6827 - accuracy: 0.5375\n",
      "Epoch 9/10\n",
      "300/300 [==============================] - 0s 1ms/step - loss: 0.6831 - accuracy: 0.5344\n",
      "Epoch 10/10\n",
      "300/300 [==============================] - 0s 1ms/step - loss: 0.6818 - accuracy: 0.5396\n"
     ]
    }
   ],
   "source": [
    "his=model_lstm.fit(x_train, y_train, epochs=10, batch_size=16)"
   ]
  },
  {
   "cell_type": "code",
   "execution_count": 273,
   "metadata": {},
   "outputs": [
    {
     "name": "stdout",
     "output_type": "stream",
     "text": [
      "38/38 [==============================] - 0s 690us/step - loss: 0.6762 - accuracy: 0.5400\n"
     ]
    }
   ],
   "source": [
    "acc=model_lstm.evaluate(x_test, y_test, batch_size=32)"
   ]
  },
  {
   "cell_type": "code",
   "execution_count": null,
   "metadata": {},
   "outputs": [],
   "source": []
  },
  {
   "cell_type": "code",
   "execution_count": null,
   "metadata": {},
   "outputs": [],
   "source": []
  },
  {
   "cell_type": "code",
   "execution_count": null,
   "metadata": {},
   "outputs": [],
   "source": []
  },
  {
   "cell_type": "code",
   "execution_count": null,
   "metadata": {},
   "outputs": [],
   "source": []
  },
  {
   "cell_type": "code",
   "execution_count": null,
   "metadata": {},
   "outputs": [],
   "source": []
  },
  {
   "cell_type": "code",
   "execution_count": 183,
   "metadata": {},
   "outputs": [],
   "source": [
    "input_shape=(n_timesteps, n_features)\n",
    "\n",
    "input_data = tf.keras.layers.Input(shape=input_shape, dtype='float32')\n",
    "inner1 = tf.keras.layers.Conv1D(filters=32, kernel_size=1, activation='relu')(input_data)\n",
    "inner2 = tf.keras.layers.Conv1D(filters=32, kernel_size=1, activation='relu')(inner1)\n",
    "# inner3 = Dropout(0.25)(inner2)\n",
    "# inner4 = tf.keras.layers.MaxPool1D(pool_size=1)(inner3)\n",
    "inner5 = Flatten()(inner2)\n",
    "dense1 = Dense(100, activation='relu')(inner5)\n",
    "\n",
    "out = Dense(n_outputs, activation='relu')(dense1)\n"
   ]
  },
  {
   "cell_type": "code",
   "execution_count": 184,
   "metadata": {},
   "outputs": [],
   "source": [
    "model_cnn = tf.keras.models.Model(input_data, out)"
   ]
  },
  {
   "cell_type": "code",
   "execution_count": 185,
   "metadata": {},
   "outputs": [],
   "source": [
    "model_cnn.compile(loss='categorical_crossentropy', optimizer='adam', metrics=['accuracy'])"
   ]
  },
  {
   "cell_type": "code",
   "execution_count": 186,
   "metadata": {},
   "outputs": [
    {
     "name": "stdout",
     "output_type": "stream",
     "text": [
      "Model: \"model_12\"\n",
      "_________________________________________________________________\n",
      "Layer (type)                 Output Shape              Param #   \n",
      "=================================================================\n",
      "input_26 (InputLayer)        [(None, 1, 16)]           0         \n",
      "_________________________________________________________________\n",
      "conv1d_50 (Conv1D)           (None, 1, 32)             544       \n",
      "_________________________________________________________________\n",
      "conv1d_51 (Conv1D)           (None, 1, 32)             1056      \n",
      "_________________________________________________________________\n",
      "flatten_16 (Flatten)         (None, 32)                0         \n",
      "_________________________________________________________________\n",
      "dense_42 (Dense)             (None, 100)               3300      \n",
      "_________________________________________________________________\n",
      "dense_43 (Dense)             (None, 2)                 202       \n",
      "=================================================================\n",
      "Total params: 5,102\n",
      "Trainable params: 5,102\n",
      "Non-trainable params: 0\n",
      "_________________________________________________________________\n"
     ]
    }
   ],
   "source": [
    "model_cnn.summary()"
   ]
  },
  {
   "cell_type": "code",
   "execution_count": 188,
   "metadata": {},
   "outputs": [
    {
     "name": "stdout",
     "output_type": "stream",
     "text": [
      "Epoch 1/15\n",
      "300/300 [==============================] - 0s 661us/step - loss: 0.5922 - accuracy: 0.6044\n",
      "Epoch 2/15\n",
      "300/300 [==============================] - 0s 660us/step - loss: 0.5427 - accuracy: 0.7887\n",
      "Epoch 3/15\n",
      "300/300 [==============================] - 0s 650us/step - loss: 0.4673 - accuracy: 0.7983\n",
      "Epoch 4/15\n",
      "300/300 [==============================] - 0s 712us/step - loss: 0.4447 - accuracy: 0.8073\n",
      "Epoch 5/15\n",
      "300/300 [==============================] - 0s 650us/step - loss: 0.4632 - accuracy: 0.8100\n",
      "Epoch 6/15\n",
      "300/300 [==============================] - 0s 714us/step - loss: 0.4507 - accuracy: 0.8129\n",
      "Epoch 7/15\n",
      "300/300 [==============================] - 0s 703us/step - loss: 0.4465 - accuracy: 0.8090\n",
      "Epoch 8/15\n",
      "300/300 [==============================] - 0s 691us/step - loss: 0.5299 - accuracy: 0.7840\n",
      "Epoch 9/15\n",
      "300/300 [==============================] - 0s 731us/step - loss: 0.5049 - accuracy: 0.8017\n",
      "Epoch 10/15\n",
      "300/300 [==============================] - 0s 694us/step - loss: 0.4573 - accuracy: 0.8077\n",
      "Epoch 11/15\n",
      "300/300 [==============================] - 0s 715us/step - loss: 0.4330 - accuracy: 0.8108\n",
      "Epoch 12/15\n",
      "300/300 [==============================] - 0s 720us/step - loss: 0.4294 - accuracy: 0.8087\n",
      "Epoch 13/15\n",
      "300/300 [==============================] - 0s 700us/step - loss: 0.4292 - accuracy: 0.8217\n",
      "Epoch 14/15\n",
      "300/300 [==============================] - 0s 698us/step - loss: 0.4278 - accuracy: 0.8215\n",
      "Epoch 15/15\n",
      "300/300 [==============================] - 0s 734us/step - loss: 0.4249 - accuracy: 0.8198\n"
     ]
    }
   ],
   "source": [
    "his=model_cnn.fit(x_train, y_train, epochs=15, batch_size=16) # 1Dcnn+fc"
   ]
  },
  {
   "cell_type": "code",
   "execution_count": 190,
   "metadata": {},
   "outputs": [],
   "source": [
    "feature = tf.keras.models.Model(inputs=model_cnn.input,outputs=model_cnn.get_layer('flatten_16').output)"
   ]
  },
  {
   "cell_type": "code",
   "execution_count": 191,
   "metadata": {},
   "outputs": [
    {
     "name": "stdout",
     "output_type": "stream",
     "text": [
      "(4800, 32)\n",
      "(1200, 32)\n"
     ]
    }
   ],
   "source": [
    "x_train_new = feature.predict(x_train) #featurs extracted from already trained 1dcnn\n",
    "print(x_train_new.shape)\n",
    "\n",
    "x_test_new = feature.predict(x_test)\n",
    "print(x_test_new.shape)\n"
   ]
  },
  {
   "cell_type": "code",
   "execution_count": 282,
   "metadata": {},
   "outputs": [],
   "source": [
    "from sklearn.ensemble import RandomForestClassifier"
   ]
  },
  {
   "cell_type": "code",
   "execution_count": 289,
   "metadata": {},
   "outputs": [],
   "source": [
    "model_rnd = RandomForestClassifier(n_estimators=100)\n"
   ]
  },
  {
   "cell_type": "code",
   "execution_count": 292,
   "metadata": {},
   "outputs": [],
   "source": [
    "model_rnd.fit(x_train_new, np.argmax(y_train, axis=1))\n",
    "y_pred=model_rnd.predict(x_test_new)"
   ]
  },
  {
   "cell_type": "code",
   "execution_count": 298,
   "metadata": {},
   "outputs": [
    {
     "data": {
      "text/plain": [
       "array([1, 1, 0, 1, 0, 1, 0, 0, 1, 1, 0, 1, 1, 0, 0, 1, 1, 1, 1, 1])"
      ]
     },
     "execution_count": 298,
     "metadata": {},
     "output_type": "execute_result"
    }
   ],
   "source": [
    "np.argmax(y_test, axis=1)[:20]"
   ]
  },
  {
   "cell_type": "code",
   "execution_count": 299,
   "metadata": {},
   "outputs": [
    {
     "data": {
      "text/plain": [
       "array([1, 1, 0, 1, 0, 1, 0, 0, 1, 1, 0, 1, 1, 0, 0, 1, 1, 1, 1, 1])"
      ]
     },
     "execution_count": 299,
     "metadata": {},
     "output_type": "execute_result"
    }
   ],
   "source": [
    "y_pred[:20]"
   ]
  },
  {
   "cell_type": "code",
   "execution_count": 294,
   "metadata": {},
   "outputs": [
    {
     "name": "stdout",
     "output_type": "stream",
     "text": [
      "Accuracy: 1.0\n"
     ]
    }
   ],
   "source": [
    "print(\"Accuracy:\",accuracy_score(np.argmax(y_test,axis=1), y_pred))"
   ]
  },
  {
   "cell_type": "code",
   "execution_count": 203,
   "metadata": {},
   "outputs": [
    {
     "data": {
      "text/plain": [
       "SVC()"
      ]
     },
     "execution_count": 203,
     "metadata": {},
     "output_type": "execute_result"
    }
   ],
   "source": [
    "#svm classification\n",
    "from sklearn.svm import SVC\n",
    "\n",
    "model_svm = SVC(kernel='rbf')\n",
    "\n",
    "model_svm.fit(x_train_new, np.argmax(y_train,axis=1))"
   ]
  },
  {
   "cell_type": "code",
   "execution_count": 204,
   "metadata": {},
   "outputs": [
    {
     "data": {
      "text/plain": [
       "SVC()"
      ]
     },
     "execution_count": 204,
     "metadata": {},
     "output_type": "execute_result"
    }
   ],
   "source": [
    "svm"
   ]
  },
  {
   "cell_type": "code",
   "execution_count": 205,
   "metadata": {},
   "outputs": [],
   "source": [
    "svm.score(x_test_new,np.argmax(y_test,axis=1))\n",
    "Pred_labels = svm.predict(x_test_new)"
   ]
  },
  {
   "cell_type": "code",
   "execution_count": 206,
   "metadata": {},
   "outputs": [
    {
     "data": {
      "text/plain": [
       "array([1, 1, 0, 1, 0, 1, 0, 0, 1, 0, 0, 1, 1, 0, 0, 1, 1, 1, 1, 1])"
      ]
     },
     "execution_count": 206,
     "metadata": {},
     "output_type": "execute_result"
    }
   ],
   "source": [
    "Pred_labels[:20]"
   ]
  },
  {
   "cell_type": "code",
   "execution_count": 207,
   "metadata": {},
   "outputs": [
    {
     "data": {
      "text/plain": [
       "array([1, 1, 0, 1, 0, 1, 0, 0, 1, 1, 0, 1, 1, 0, 0, 1, 1, 1, 1, 1])"
      ]
     },
     "execution_count": 207,
     "metadata": {},
     "output_type": "execute_result"
    }
   ],
   "source": [
    "np.argmax(y_test,axis=1)[:20]"
   ]
  },
  {
   "cell_type": "code",
   "execution_count": 211,
   "metadata": {},
   "outputs": [
    {
     "name": "stdout",
     "output_type": "stream",
     "text": [
      "Accuracy:0.8325\n"
     ]
    }
   ],
   "source": [
    "from sklearn.metrics import confusion_matrix,classification_report, accuracy_score\n",
    "#print (classification_report(np.argmax(y_test, axis=1),svm))\n",
    "\n",
    "print(\"Accuracy:{0}\".format(accuracy_score(np.argmax(y_test,axis=1),Pred_labels)))"
   ]
  },
  {
   "cell_type": "code",
   "execution_count": 212,
   "metadata": {},
   "outputs": [
    {
     "name": "stdout",
     "output_type": "stream",
     "text": [
      "38/38 [==============================] - 0s 651us/step - loss: 0.4228 - accuracy: 0.8283\n"
     ]
    }
   ],
   "source": [
    "acc=model_cnn.evaluate(x_test, y_test, batch_size=32)"
   ]
  },
  {
   "cell_type": "code",
   "execution_count": null,
   "metadata": {},
   "outputs": [],
   "source": []
  },
  {
   "cell_type": "code",
   "execution_count": 32,
   "metadata": {},
   "outputs": [
    {
     "data": {
      "image/png": "[encoded data removed]",
      "text/plain": [
       "<Figure size 432x288 with 1 Axes>"
      ]
     },
     "metadata": {
      "needs_background": "light"
     },
     "output_type": "display_data"
    }
   ],
   "source": [
    "trr_acc = his.history['accuracy']\n",
    "valr_acc = his.history['val_accuracy']\n",
    "epochs=range(10)\n",
    "\n",
    "\n",
    "# to print training  accuracy vs validation accuracy\n",
    "plt.plot(epochs, trr_acc)\n",
    "#plt.plot(epochs, valr_acc)\n",
    "\n",
    "plt.xlabel('num of Epochs')\n",
    "plt.ylabel('accuracy')\n",
    "plt.title('train_acc vs val_acc ( 1 layer Fine-tuned)')\n",
    "plt.grid(True)\n",
    "plt.legend(['train-row-predictor', 'val-row-predictor','train-column-predictor', 'val-column-predictor'], loc=4)\n",
    "plt.show()"
   ]
  },
  {
   "cell_type": "code",
   "execution_count": 33,
   "metadata": {},
   "outputs": [],
   "source": [
    "pred = model.predict(x_train_r[5000:])"
   ]
  },
  {
   "cell_type": "code",
   "execution_count": 34,
   "metadata": {},
   "outputs": [],
   "source": [
    "import numpy as np"
   ]
  },
  {
   "cell_type": "code",
   "execution_count": 35,
   "metadata": {},
   "outputs": [
    {
     "name": "stdout",
     "output_type": "stream",
     "text": [
      "              precision    recall  f1-score   support\n",
      "\n",
      "           0       0.56      0.99      0.72       496\n",
      "           1       0.95      0.25      0.39       504\n",
      "\n",
      "    accuracy                           0.61      1000\n",
      "   macro avg       0.76      0.62      0.56      1000\n",
      "weighted avg       0.76      0.61      0.55      1000\n",
      "\n"
     ]
    }
   ],
   "source": [
    "# model_0 fine tune\n",
    "from sklearn.metrics import classification_report\n",
    "from sklearn.metrics import accuracy_score\n",
    "from sklearn.metrics import confusion_matrix\n",
    "\n",
    "y_pred = pred.argmax(axis=-1)\n",
    "y_true = [np.argmax(p) for p in trainy[5000:]]\n",
    "#finetune 1\n",
    "print(classification_report(y_true, y_pred))\n",
    "matrix = confusion_matrix(y_true, y_pred)\n",
    "acceach1=matrix.diagonal()/matrix.sum(axis=1)"
   ]
  },
  {
   "cell_type": "code",
   "execution_count": 36,
   "metadata": {},
   "outputs": [
    {
     "name": "stdout",
     "output_type": "stream",
     "text": [
      "[[490   6]\n",
      " [379 125]]\n"
     ]
    }
   ],
   "source": [
    "print(matrix)"
   ]
  },
  {
   "cell_type": "code",
   "execution_count": 38,
   "metadata": {},
   "outputs": [
    {
     "data": {
      "image/png": "[encoded data removed]",
      "text/plain": [
       "<Figure size 432x288 with 1 Axes>"
      ]
     },
     "metadata": {
      "needs_background": "light"
     },
     "output_type": "display_data"
    }
   ],
   "source": [
    "import  matplotlib.pyplot as plt\n",
    "\n",
    "def autolabel(rectangle_group):\n",
    "\tfor rect in rectangle_group:\n",
    "\t\theight = rect.get_height()\n",
    "\n",
    "\t\tax.annotate(str(height),\n",
    "\t\t\txy = (rect.get_x() + rect.get_width() / 2,height),\n",
    "\t\t\tha = 'center',\n",
    "\t\t\txytext = (0,3),textcoords = 'offset points',\n",
    "\t\t\tcolor = 'grey')\n",
    "        \n",
    "\n",
    "phases      = ['SVM','DT','KKN','XBoot']\n",
    "playstation = [102      , 155      , 87     , 110       ]\n",
    "xbox        = [0        , 24       , 86     , 50        ]\n",
    "nintendo    = [33       , 22       , 102    , 62        ]\n",
    "pc_sales    = [71       , 128      , 105    , 100      ]\n",
    "\n",
    "# MSE = [102      , 155      , 87     , 110       ]\n",
    "# MAE        = [0        , 24       , 86     , 50        ]\n",
    "# RMSE    = [33       , 22       , 102    , 62        ]\n",
    "# R2    = [71       , 128      , 240    , 316       ]\n",
    "\n",
    "\n",
    "width = 0.2\n",
    "x_playstation = [x - width for x in range(len(playstation))]\n",
    "x_xbox        = [x for x in range(len(xbox))]\n",
    "x_nintendo = [x + width for x in range(len(nintendo))]\n",
    "\n",
    "fig,ax = plt.subplots()\n",
    "\n",
    "rect1 = ax.bar(x_playstation, playstation,width, label = 'Playstation',color = 'darkslategray')\n",
    "rect2 = ax.bar(x_xbox,xbox,width,label = 'XBox',color = 'limegreen')\n",
    "rect3 = ax.bar(x_nintendo,nintendo,width,label = 'Nintendo',color = 'crimson')\n",
    "ax.plot(phases,pc_sales,label = 'PC Sales',color = 'black',marker = 'o')\n",
    "\n",
    "ax.set_title('The hardware market')\n",
    "ax.set_ylabel('Total sales (in millions)')\n",
    "ax.legend()\n",
    "\n",
    "autolabel(rect1)\n",
    "autolabel(rect2)\n",
    "autolabel(rect3)\n",
    "\n",
    "plt.show()"
   ]
  },
  {
   "cell_type": "code",
   "execution_count": null,
   "metadata": {},
   "outputs": [],
   "source": [
    "#LSTM\n",
    "input_shape=(n_timesteps, n_features)\n",
    "input_data = tf.keras.layers.Input(name='input', shape=input_shape, dtype='float32')\n",
    "lstm = tf.keras.layers.LSTM(128, return_sequences=False, return_state=False)(input_data)\n",
    "fc = Flatten()(lstm) \n",
    "outputs = Dense(n_outputs, activation='softmax')(fc)\n"
   ]
  },
  {
   "cell_type": "code",
   "execution_count": 310,
   "metadata": {},
   "outputs": [],
   "source": [
    "input_data = tf.keras.layers.Input(shape=input_shape, dtype='float32')\n",
    "inner1 = tf.keras.layers.Conv1D(filters=32, kernel_size=1, activation='relu')(input_data)\n",
    "inner2 = tf.keras.layers.Conv1D(filters=32, kernel_size=1, activation='relu')(inner1)\n",
    "lstm = tf.keras.layers.LSTM(128, return_sequences=False, return_state=False)(inner2)\n",
    "fc = Flatten()(lstm) \n",
    "outputs = Dense(n_outputs, activation='softmax')(fc)"
   ]
  },
  {
   "cell_type": "code",
   "execution_count": 314,
   "metadata": {},
   "outputs": [
    {
     "name": "stdout",
     "output_type": "stream",
     "text": [
      "Model: \"model_25\"\n",
      "_________________________________________________________________\n",
      "Layer (type)                 Output Shape              Param #   \n",
      "=================================================================\n",
      "input_40 (InputLayer)        [(None, 1, 16)]           0         \n",
      "_________________________________________________________________\n",
      "conv1d_58 (Conv1D)           (None, 1, 32)             544       \n",
      "_________________________________________________________________\n",
      "conv1d_59 (Conv1D)           (None, 1, 32)             1056      \n",
      "_________________________________________________________________\n",
      "lstm_31 (LSTM)               (None, 128)               82432     \n",
      "_________________________________________________________________\n",
      "flatten_36 (Flatten)         (None, 128)               0         \n",
      "_________________________________________________________________\n",
      "dense_59 (Dense)             (None, 2)                 258       \n",
      "=================================================================\n",
      "Total params: 84,290\n",
      "Trainable params: 84,290\n",
      "Non-trainable params: 0\n",
      "_________________________________________________________________\n"
     ]
    }
   ],
   "source": [
    "model_cnn_lstm.summary()"
   ]
  },
  {
   "cell_type": "code",
   "execution_count": 311,
   "metadata": {},
   "outputs": [],
   "source": [
    "model_cnn_lstm = tf.keras.models.Model(input_data, outputs)"
   ]
  },
  {
   "cell_type": "code",
   "execution_count": 312,
   "metadata": {},
   "outputs": [],
   "source": [
    "model_cnn_lstm.compile(loss='categorical_crossentropy', optimizer='adam', metrics=['accuracy'])"
   ]
  },
  {
   "cell_type": "code",
   "execution_count": 313,
   "metadata": {},
   "outputs": [
    {
     "name": "stdout",
     "output_type": "stream",
     "text": [
      "Epoch 1/15\n",
      "300/300 [==============================] - 2s 1ms/step - loss: 0.6653 - accuracy: 0.6081\n",
      "Epoch 2/15\n",
      "300/300 [==============================] - 0s 1ms/step - loss: 0.6206 - accuracy: 0.6879\n",
      "Epoch 3/15\n",
      "300/300 [==============================] - 0s 1ms/step - loss: 0.6561 - accuracy: 0.6456\n",
      "Epoch 4/15\n",
      "300/300 [==============================] - 0s 1ms/step - loss: 0.6635 - accuracy: 0.6290\n",
      "Epoch 5/15\n",
      "300/300 [==============================] - 0s 1ms/step - loss: 0.6700 - accuracy: 0.5867\n",
      "Epoch 6/15\n",
      "300/300 [==============================] - 0s 1ms/step - loss: 0.6756 - accuracy: 0.5908\n",
      "Epoch 7/15\n",
      "300/300 [==============================] - 0s 1ms/step - loss: 0.6785 - accuracy: 0.5569\n",
      "Epoch 8/15\n",
      "300/300 [==============================] - 0s 2ms/step - loss: 0.6917 - accuracy: 0.5206\n",
      "Epoch 9/15\n",
      "300/300 [==============================] - 0s 1ms/step - loss: 0.6923 - accuracy: 0.5129\n",
      "Epoch 10/15\n",
      "300/300 [==============================] - 0s 1ms/step - loss: 0.6918 - accuracy: 0.5227\n",
      "Epoch 11/15\n",
      "300/300 [==============================] - 0s 1ms/step - loss: 0.6927 - accuracy: 0.5190: 0s - loss: 0.6922 - accu\n",
      "Epoch 12/15\n",
      "300/300 [==============================] - 0s 1ms/step - loss: 0.6925 - accuracy: 0.5198\n",
      "Epoch 13/15\n",
      "300/300 [==============================] - 0s 1ms/step - loss: 0.6927 - accuracy: 0.5119\n",
      "Epoch 14/15\n",
      "300/300 [==============================] - 0s 1ms/step - loss: 0.6927 - accuracy: 0.5175\n",
      "Epoch 15/15\n",
      "300/300 [==============================] - 0s 1ms/step - loss: 0.6933 - accuracy: 0.5142\n"
     ]
    }
   ],
   "source": [
    "his=model_cnn_lstm.fit(x_train, y_train, epochs=15, batch_size=16)"
   ]
  },
  {
   "cell_type": "code",
   "execution_count": null,
   "metadata": {},
   "outputs": [],
   "source": []
  }
 ],
 "metadata": {
  "kernelspec": {
   "display_name": "Python 3 (ipykernel)",
   "language": "python",
   "name": "python3"
  },
  "language_info": {
   "codemirror_mode": {
    "name": "ipython",
    "version": 3
   },
   "file_extension": ".py",
   "mimetype": "text/x-python",
   "name": "python",
   "nbconvert_exporter": "python",
   "pygments_lexer": "ipython3",
   "version": "3.8.10"
  }
 },
 "nbformat": 4,
 "nbformat_minor": 4
}

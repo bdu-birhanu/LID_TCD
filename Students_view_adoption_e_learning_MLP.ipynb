{
 "cells": [
  {
   "cell_type": "code",
   "execution_count": 1,
   "metadata": {},
   "outputs": [
    {
     "name": "stderr",
     "output_type": "stream",
     "text": [
      "Using TensorFlow backend.\n"
     ]
    }
   ],
   "source": [
    "import numpy as np\n",
    "import pandas as pd\n",
    "from keras.models import Sequential, Model,load_model\n",
    "from keras.layers import Dense, Input\n",
    "from keras.optimizers import Adam\n",
    "from sklearn.preprocessing import LabelEncoder\n",
    "from sklearn.model_selection import train_test_split\n",
    "import matplotlib.pyplot as plt\n",
    "from keras.callbacks import ModelCheckpoint\n",
    "from sklearn.metrics import classification_report, confusion_matrix"
   ]
  },
  {
   "cell_type": "code",
   "execution_count": 2,
   "metadata": {},
   "outputs": [
    {
     "data": {
      "text/html": [
       "<div>\n",
       "<table border=\"1\" class=\"dataframe\">\n",
       "  <thead>\n",
       "    <tr style=\"text-align: right;\">\n",
       "      <th></th>\n",
       "      <th>easy_to_learn</th>\n",
       "      <th>Internet_speed</th>\n",
       "      <th>covid19-protection</th>\n",
       "      <th>exam_copy</th>\n",
       "      <th>save_time</th>\n",
       "      <th>quality_improve</th>\n",
       "      <th>student_view</th>\n",
       "    </tr>\n",
       "  </thead>\n",
       "  <tbody>\n",
       "    <tr>\n",
       "      <th>0</th>\n",
       "      <td>1</td>\n",
       "      <td>0</td>\n",
       "      <td>1</td>\n",
       "      <td>1</td>\n",
       "      <td>2</td>\n",
       "      <td>2</td>\n",
       "      <td>pos</td>\n",
       "    </tr>\n",
       "    <tr>\n",
       "      <th>1</th>\n",
       "      <td>1</td>\n",
       "      <td>0</td>\n",
       "      <td>1</td>\n",
       "      <td>1</td>\n",
       "      <td>2</td>\n",
       "      <td>2</td>\n",
       "      <td>pos</td>\n",
       "    </tr>\n",
       "    <tr>\n",
       "      <th>2</th>\n",
       "      <td>1</td>\n",
       "      <td>0</td>\n",
       "      <td>1</td>\n",
       "      <td>1</td>\n",
       "      <td>2</td>\n",
       "      <td>2</td>\n",
       "      <td>pos</td>\n",
       "    </tr>\n",
       "    <tr>\n",
       "      <th>3</th>\n",
       "      <td>1</td>\n",
       "      <td>0</td>\n",
       "      <td>1</td>\n",
       "      <td>1</td>\n",
       "      <td>2</td>\n",
       "      <td>2</td>\n",
       "      <td>pos</td>\n",
       "    </tr>\n",
       "    <tr>\n",
       "      <th>4</th>\n",
       "      <td>1</td>\n",
       "      <td>0</td>\n",
       "      <td>1</td>\n",
       "      <td>1</td>\n",
       "      <td>2</td>\n",
       "      <td>2</td>\n",
       "      <td>pos</td>\n",
       "    </tr>\n",
       "    <tr>\n",
       "      <th>5</th>\n",
       "      <td>1</td>\n",
       "      <td>0</td>\n",
       "      <td>1</td>\n",
       "      <td>1</td>\n",
       "      <td>2</td>\n",
       "      <td>2</td>\n",
       "      <td>pos</td>\n",
       "    </tr>\n",
       "    <tr>\n",
       "      <th>6</th>\n",
       "      <td>0</td>\n",
       "      <td>0</td>\n",
       "      <td>1</td>\n",
       "      <td>1</td>\n",
       "      <td>2</td>\n",
       "      <td>0</td>\n",
       "      <td>neg</td>\n",
       "    </tr>\n",
       "    <tr>\n",
       "      <th>7</th>\n",
       "      <td>0</td>\n",
       "      <td>0</td>\n",
       "      <td>1</td>\n",
       "      <td>0</td>\n",
       "      <td>2</td>\n",
       "      <td>0</td>\n",
       "      <td>neg</td>\n",
       "    </tr>\n",
       "    <tr>\n",
       "      <th>8</th>\n",
       "      <td>0</td>\n",
       "      <td>1</td>\n",
       "      <td>1</td>\n",
       "      <td>0</td>\n",
       "      <td>2</td>\n",
       "      <td>0</td>\n",
       "      <td>neg</td>\n",
       "    </tr>\n",
       "    <tr>\n",
       "      <th>9</th>\n",
       "      <td>0</td>\n",
       "      <td>1</td>\n",
       "      <td>1</td>\n",
       "      <td>0</td>\n",
       "      <td>2</td>\n",
       "      <td>0</td>\n",
       "      <td>neg</td>\n",
       "    </tr>\n",
       "  </tbody>\n",
       "</table>\n",
       "</div>"
      ],
      "text/plain": [
       "   easy_to_learn  Internet_speed  covid19-protection  exam_copy  save_time  \\\n",
       "0              1               0                   1          1          2   \n",
       "1              1               0                   1          1          2   \n",
       "2              1               0                   1          1          2   \n",
       "3              1               0                   1          1          2   \n",
       "4              1               0                   1          1          2   \n",
       "5              1               0                   1          1          2   \n",
       "6              0               0                   1          1          2   \n",
       "7              0               0                   1          0          2   \n",
       "8              0               1                   1          0          2   \n",
       "9              0               1                   1          0          2   \n",
       "\n",
       "   quality_improve student_view  \n",
       "0                2          pos  \n",
       "1                2          pos  \n",
       "2                2          pos  \n",
       "3                2          pos  \n",
       "4                2          pos  \n",
       "5                2          pos  \n",
       "6                0          neg  \n",
       "7                0          neg  \n",
       "8                0          neg  \n",
       "9                0          neg  "
      ]
     },
     "execution_count": 2,
     "metadata": {},
     "output_type": "execute_result"
    }
   ],
   "source": [
    "#read the datset and display the first 6 records\n",
    "dataset = pd.read_csv('/media/nbm/New Volume/Msc_courses/ML-BDU/SWE_PPT/Sample_codes/adoption_elearning/uni.csv')\n",
    "dataset.head(10)"
   ]
  },
  {
   "cell_type": "code",
   "execution_count": 3,
   "metadata": {},
   "outputs": [],
   "source": [
    "#Splitting the data into training and test test\n",
    "X = dataset.iloc[:,0:6].values \n",
    "y = dataset.iloc[:,6].values"
   ]
  },
  {
   "cell_type": "code",
   "execution_count": 4,
   "metadata": {},
   "outputs": [
    {
     "data": {
      "text/plain": [
       "array([[1, 0, 1, 1, 2, 2],\n",
       "       [1, 0, 1, 1, 2, 2],\n",
       "       [1, 0, 1, 1, 2, 2],\n",
       "       [1, 0, 1, 1, 2, 2],\n",
       "       [1, 0, 1, 1, 2, 2],\n",
       "       [1, 0, 1, 1, 2, 2],\n",
       "       [0, 0, 1, 1, 2, 0],\n",
       "       [0, 0, 1, 0, 2, 0],\n",
       "       [0, 1, 1, 0, 2, 0],\n",
       "       [0, 1, 1, 0, 2, 0],\n",
       "       [0, 1, 1, 0, 2, 0],\n",
       "       [0, 1, 1, 0, 2, 0],\n",
       "       [0, 1, 1, 0, 2, 0],\n",
       "       [0, 1, 1, 0, 2, 0],\n",
       "       [1, 0, 1, 1, 1, 1],\n",
       "       [1, 0, 1, 1, 1, 1],\n",
       "       [1, 0, 1, 1, 1, 1],\n",
       "       [1, 0, 1, 1, 1, 1],\n",
       "       [1, 0, 1, 1, 1, 1],\n",
       "       [1, 0, 1, 1, 1, 1],\n",
       "       [1, 2, 1, 1, 1, 1],\n",
       "       [1, 2, 1, 1, 1, 1],\n",
       "       [1, 2, 1, 1, 1, 1],\n",
       "       [1, 2, 1, 1, 1, 1],\n",
       "       [1, 2, 1, 1, 1, 1],\n",
       "       [1, 2, 1, 1, 1, 1],\n",
       "       [1, 0, 1, 1, 1, 1],\n",
       "       [1, 0, 1, 1, 0, 1],\n",
       "       [1, 0, 1, 1, 0, 1],\n",
       "       [1, 0, 1, 1, 0, 1],\n",
       "       [0, 1, 1, 0, 0, 0],\n",
       "       [0, 1, 1, 0, 0, 0],\n",
       "       [0, 1, 1, 0, 0, 0],\n",
       "       [0, 1, 1, 0, 0, 0],\n",
       "       [0, 1, 1, 0, 0, 0],\n",
       "       [0, 1, 1, 0, 0, 0],\n",
       "       [0, 1, 1, 0, 0, 0],\n",
       "       [0, 1, 1, 0, 0, 2],\n",
       "       [0, 1, 1, 0, 0, 2],\n",
       "       [1, 0, 1, 1, 0, 2],\n",
       "       [1, 0, 1, 1, 0, 2],\n",
       "       [1, 0, 1, 1, 0, 2],\n",
       "       [1, 0, 1, 1, 0, 2],\n",
       "       [1, 0, 1, 1, 0, 2],\n",
       "       [1, 0, 1, 1, 0, 2],\n",
       "       [1, 0, 1, 1, 0, 2],\n",
       "       [1, 0, 1, 1, 0, 2],\n",
       "       [1, 0, 1, 1, 0, 2],\n",
       "       [1, 0, 0, 1, 0, 2],\n",
       "       [1, 0, 0, 1, 0, 2],\n",
       "       [1, 0, 0, 1, 0, 2],\n",
       "       [1, 0, 0, 1, 0, 2]])"
      ]
     },
     "execution_count": 4,
     "metadata": {},
     "output_type": "execute_result"
    }
   ],
   "source": [
    "X\n"
   ]
  },
  {
   "cell_type": "code",
   "execution_count": 5,
   "metadata": {},
   "outputs": [
    {
     "data": {
      "text/plain": [
       "array(['pos', 'pos', 'pos', 'pos', 'pos', 'pos', 'neg', 'neg', 'neg',\n",
       "       'neg', 'neg', 'neg', 'neg', 'neg', 'new', 'new', 'new', 'new',\n",
       "       'new', 'new', 'new', 'new', 'new', 'new', 'new', 'new', 'new',\n",
       "       'new', 'new', 'new', 'neg', 'neg', 'neg', 'neg', 'neg', 'neg',\n",
       "       'neg', 'neg', 'neg', 'pos', 'pos', 'pos', 'pos', 'pos', 'pos',\n",
       "       'pos', 'pos', 'pos', 'pos', 'pos', 'pos', 'pos'], dtype=object)"
      ]
     },
     "execution_count": 5,
     "metadata": {},
     "output_type": "execute_result"
    }
   ],
   "source": [
    "y"
   ]
  },
  {
   "cell_type": "code",
   "execution_count": 6,
   "metadata": {},
   "outputs": [
    {
     "data": {
      "text/plain": [
       "(52,)"
      ]
     },
     "execution_count": 6,
     "metadata": {},
     "output_type": "execute_result"
    }
   ],
   "source": [
    "y.shape"
   ]
  },
  {
   "cell_type": "code",
   "execution_count": 6,
   "metadata": {},
   "outputs": [],
   "source": [
    "# to transform the string class to catagorical int\n",
    "encoder =  LabelEncoder()\n",
    "y1 = encoder.fit_transform(y)"
   ]
  },
  {
   "cell_type": "code",
   "execution_count": 7,
   "metadata": {},
   "outputs": [
    {
     "data": {
      "text/plain": [
       "array([2, 2, 2, 2, 2, 2, 0, 0, 0, 0, 0, 0, 0, 0, 1, 1, 1, 1, 1, 1, 1, 1,\n",
       "       1, 1, 1, 1, 1, 1, 1, 1, 0, 0, 0, 0, 0, 0, 0, 0, 0, 2, 2, 2, 2, 2,\n",
       "       2, 2, 2, 2, 2, 2, 2, 2])"
      ]
     },
     "execution_count": 7,
     "metadata": {},
     "output_type": "execute_result"
    }
   ],
   "source": [
    "y1"
   ]
  },
  {
   "cell_type": "code",
   "execution_count": 8,
   "metadata": {},
   "outputs": [],
   "source": [
    "Y = pd.get_dummies(y1).values #one-hot encoding"
   ]
  },
  {
   "cell_type": "code",
   "execution_count": 10,
   "metadata": {},
   "outputs": [
    {
     "data": {
      "text/plain": [
       "array([[0., 0., 1.],\n",
       "       [0., 0., 1.],\n",
       "       [0., 0., 1.],\n",
       "       [0., 0., 1.],\n",
       "       [0., 0., 1.],\n",
       "       [0., 0., 1.],\n",
       "       [1., 0., 0.],\n",
       "       [1., 0., 0.],\n",
       "       [1., 0., 0.],\n",
       "       [1., 0., 0.],\n",
       "       [1., 0., 0.],\n",
       "       [1., 0., 0.],\n",
       "       [1., 0., 0.],\n",
       "       [1., 0., 0.],\n",
       "       [0., 1., 0.],\n",
       "       [0., 1., 0.],\n",
       "       [0., 1., 0.],\n",
       "       [0., 1., 0.],\n",
       "       [0., 1., 0.],\n",
       "       [0., 1., 0.],\n",
       "       [0., 1., 0.],\n",
       "       [0., 1., 0.],\n",
       "       [0., 1., 0.],\n",
       "       [0., 1., 0.],\n",
       "       [0., 1., 0.],\n",
       "       [0., 1., 0.],\n",
       "       [0., 1., 0.],\n",
       "       [0., 1., 0.],\n",
       "       [0., 1., 0.],\n",
       "       [0., 1., 0.],\n",
       "       [1., 0., 0.],\n",
       "       [1., 0., 0.],\n",
       "       [1., 0., 0.],\n",
       "       [1., 0., 0.],\n",
       "       [1., 0., 0.],\n",
       "       [1., 0., 0.],\n",
       "       [1., 0., 0.],\n",
       "       [1., 0., 0.],\n",
       "       [1., 0., 0.],\n",
       "       [0., 0., 1.],\n",
       "       [0., 0., 1.],\n",
       "       [0., 0., 1.],\n",
       "       [0., 0., 1.],\n",
       "       [0., 0., 1.],\n",
       "       [0., 0., 1.],\n",
       "       [0., 0., 1.],\n",
       "       [0., 0., 1.],\n",
       "       [0., 0., 1.],\n",
       "       [0., 0., 1.],\n",
       "       [0., 0., 1.],\n",
       "       [0., 0., 1.],\n",
       "       [0., 0., 1.]])"
      ]
     },
     "execution_count": 10,
     "metadata": {},
     "output_type": "execute_result"
    }
   ],
   "source": [
    "Y"
   ]
  },
  {
   "cell_type": "code",
   "execution_count": 9,
   "metadata": {},
   "outputs": [],
   "source": [
    "X_train,X_test, y_train,y_test = train_test_split(X,Y,test_size=0.2)"
   ]
  },
  {
   "cell_type": "code",
   "execution_count": 10,
   "metadata": {},
   "outputs": [],
   "source": [
    "#we can use either of the two models\n",
    "input_shape=(6,)\n",
    "input_data=Input(shape=input_shape, dtype='float32')\n",
    "x1= Dense(30, activation='relu') (input_data)\n",
    "x2= Dense(10, activation='relu') (x1)\n",
    "x3= Dense(5, activation='relu') (x2)\n",
    "output= Dense(3, activation='softmax') (x3)\n",
    "model=Model(input_data, output)"
   ]
  },
  {
   "cell_type": "code",
   "execution_count": 12,
   "metadata": {},
   "outputs": [],
   "source": [
    "# Model\n",
    "model = Sequential()\n",
    "\n",
    "# first input layer with first hidden layer in a single statement\n",
    "model.add( Dense(30, input_shape=(6,), activation='relu') )\n",
    "# 30 is the size(no. of neurons) of first hidden layer, 5 is the no. of features in the input layer\n",
    "# input_shape=(6,)  can also be written as   input_dim=5 and it is the number of column/feature\n",
    "\n",
    "# second hiden layer\n",
    "model.add(Dense(10,activation='relu')) # 10 = no. of neurons in second hidden layer\n",
    "\n",
    "# third hiden layer\n",
    "model.add(Dense(5,activation='relu')) # 5 = no. of neurons in third hidden layer\n",
    "\n",
    "# ouput layer\n",
    "model.add(Dense(3,activation='softmax')) # 3 = no. of neurons in output layer as three categories of labels are there (posetive,negative and neutral)\n"
   ]
  },
  {
   "cell_type": "code",
   "execution_count": 11,
   "metadata": {},
   "outputs": [
    {
     "name": "stdout",
     "output_type": "stream",
     "text": [
      "Model: \"model_1\"\n",
      "_________________________________________________________________\n",
      "Layer (type)                 Output Shape              Param #   \n",
      "=================================================================\n",
      "input_1 (InputLayer)         (None, 6)                 0         \n",
      "_________________________________________________________________\n",
      "dense_1 (Dense)              (None, 30)                210       \n",
      "_________________________________________________________________\n",
      "dense_2 (Dense)              (None, 10)                310       \n",
      "_________________________________________________________________\n",
      "dense_3 (Dense)              (None, 5)                 55        \n",
      "_________________________________________________________________\n",
      "dense_4 (Dense)              (None, 3)                 18        \n",
      "=================================================================\n",
      "Total params: 593\n",
      "Trainable params: 593\n",
      "Non-trainable params: 0\n",
      "_________________________________________________________________\n"
     ]
    }
   ],
   "source": [
    "# \"categorical_crossentropy\" for multiclass classification problems\n",
    "# the compile statement can also be written as:-\n",
    "model.compile(optimizer=Adam(lr=0.04), loss='categorical_crossentropy', metrics=['accuracy'])\n",
    "\n",
    "model.summary()"
   ]
  },
  {
   "cell_type": "code",
   "execution_count": 14,
   "metadata": {},
   "outputs": [
    {
     "data": {
      "text/plain": [
       "array([[0., 1., 0.],\n",
       "       [0., 0., 1.],\n",
       "       [0., 0., 1.],\n",
       "       [1., 0., 0.],\n",
       "       [1., 0., 0.],\n",
       "       [1., 0., 0.],\n",
       "       [0., 1., 0.],\n",
       "       [0., 1., 0.],\n",
       "       [0., 1., 0.],\n",
       "       [0., 0., 1.],\n",
       "       [0., 1., 0.],\n",
       "       [1., 0., 0.],\n",
       "       [0., 0., 1.],\n",
       "       [0., 0., 1.],\n",
       "       [1., 0., 0.],\n",
       "       [1., 0., 0.],\n",
       "       [0., 1., 0.],\n",
       "       [0., 1., 0.],\n",
       "       [0., 0., 1.],\n",
       "       [0., 0., 1.],\n",
       "       [0., 0., 1.],\n",
       "       [1., 0., 0.],\n",
       "       [0., 0., 1.],\n",
       "       [0., 0., 1.],\n",
       "       [0., 1., 0.],\n",
       "       [1., 0., 0.],\n",
       "       [0., 0., 1.],\n",
       "       [0., 1., 0.],\n",
       "       [0., 0., 1.],\n",
       "       [1., 0., 0.],\n",
       "       [0., 1., 0.],\n",
       "       [1., 0., 0.],\n",
       "       [1., 0., 0.],\n",
       "       [0., 0., 1.],\n",
       "       [1., 0., 0.],\n",
       "       [0., 0., 1.],\n",
       "       [0., 1., 0.],\n",
       "       [1., 0., 0.],\n",
       "       [0., 0., 1.],\n",
       "       [1., 0., 0.],\n",
       "       [0., 0., 1.]])"
      ]
     },
     "execution_count": 14,
     "metadata": {},
     "output_type": "execute_result"
    }
   ],
   "source": [
    "y_train\n"
   ]
  },
  {
   "cell_type": "code",
   "execution_count": 14,
   "metadata": {},
   "outputs": [
    {
     "name": "stdout",
     "output_type": "stream",
     "text": [
      "Train on 36 samples, validate on 5 samples\n",
      "Epoch 1/50\n",
      "36/36 [==============================] - 0s 624us/step - loss: 0.0118 - accuracy: 1.0000 - val_loss: 0.0153 - val_accuracy: 1.0000\n",
      "Epoch 2/50\n",
      "36/36 [==============================] - 0s 416us/step - loss: 0.0115 - accuracy: 1.0000 - val_loss: 0.0144 - val_accuracy: 1.0000\n",
      "Epoch 3/50\n",
      "36/36 [==============================] - 0s 997us/step - loss: 0.0110 - accuracy: 1.0000 - val_loss: 0.0141 - val_accuracy: 1.0000\n",
      "Epoch 4/50\n",
      "36/36 [==============================] - 0s 1ms/step - loss: 0.0105 - accuracy: 1.0000 - val_loss: 0.0132 - val_accuracy: 1.0000\n",
      "Epoch 5/50\n",
      "36/36 [==============================] - 0s 471us/step - loss: 0.0100 - accuracy: 1.0000 - val_loss: 0.0127 - val_accuracy: 1.0000\n",
      "Epoch 6/50\n",
      "36/36 [==============================] - 0s 861us/step - loss: 0.0096 - accuracy: 1.0000 - val_loss: 0.0121 - val_accuracy: 1.0000\n",
      "Epoch 7/50\n",
      "36/36 [==============================] - 0s 975us/step - loss: 0.0091 - accuracy: 1.0000 - val_loss: 0.0117 - val_accuracy: 1.0000\n",
      "Epoch 8/50\n",
      "36/36 [==============================] - 0s 873us/step - loss: 0.0088 - accuracy: 1.0000 - val_loss: 0.0113 - val_accuracy: 1.0000\n",
      "Epoch 9/50\n",
      "36/36 [==============================] - 0s 740us/step - loss: 0.0085 - accuracy: 1.0000 - val_loss: 0.0109 - val_accuracy: 1.0000\n",
      "Epoch 10/50\n",
      "36/36 [==============================] - 0s 591us/step - loss: 0.0081 - accuracy: 1.0000 - val_loss: 0.0104 - val_accuracy: 1.0000\n",
      "Epoch 11/50\n",
      "36/36 [==============================] - 0s 636us/step - loss: 0.0079 - accuracy: 1.0000 - val_loss: 0.0101 - val_accuracy: 1.0000\n",
      "Epoch 12/50\n",
      "36/36 [==============================] - 0s 961us/step - loss: 0.0076 - accuracy: 1.0000 - val_loss: 0.0097 - val_accuracy: 1.0000\n",
      "Epoch 13/50\n",
      "36/36 [==============================] - 0s 999us/step - loss: 0.0073 - accuracy: 1.0000 - val_loss: 0.0094 - val_accuracy: 1.0000\n",
      "Epoch 14/50\n",
      "36/36 [==============================] - 0s 888us/step - loss: 0.0071 - accuracy: 1.0000 - val_loss: 0.0091 - val_accuracy: 1.0000\n",
      "Epoch 15/50\n",
      "36/36 [==============================] - 0s 585us/step - loss: 0.0069 - accuracy: 1.0000 - val_loss: 0.0088 - val_accuracy: 1.0000\n",
      "Epoch 16/50\n",
      "36/36 [==============================] - 0s 837us/step - loss: 0.0067 - accuracy: 1.0000 - val_loss: 0.0087 - val_accuracy: 1.0000\n",
      "Epoch 17/50\n",
      "36/36 [==============================] - 0s 685us/step - loss: 0.0065 - accuracy: 1.0000 - val_loss: 0.0082 - val_accuracy: 1.0000\n",
      "Epoch 18/50\n",
      "36/36 [==============================] - 0s 759us/step - loss: 0.0063 - accuracy: 1.0000 - val_loss: 0.0080 - val_accuracy: 1.0000\n",
      "Epoch 19/50\n",
      "36/36 [==============================] - 0s 641us/step - loss: 0.0061 - accuracy: 1.0000 - val_loss: 0.0077 - val_accuracy: 1.0000\n",
      "Epoch 20/50\n",
      "36/36 [==============================] - 0s 810us/step - loss: 0.0059 - accuracy: 1.0000 - val_loss: 0.0075 - val_accuracy: 1.0000\n",
      "Epoch 21/50\n",
      "36/36 [==============================] - 0s 845us/step - loss: 0.0057 - accuracy: 1.0000 - val_loss: 0.0072 - val_accuracy: 1.0000\n",
      "Epoch 22/50\n",
      "36/36 [==============================] - 0s 929us/step - loss: 0.0055 - accuracy: 1.0000 - val_loss: 0.0070 - val_accuracy: 1.0000\n",
      "Epoch 23/50\n",
      "36/36 [==============================] - 0s 968us/step - loss: 0.0054 - accuracy: 1.0000 - val_loss: 0.0069 - val_accuracy: 1.0000\n",
      "Epoch 24/50\n",
      "36/36 [==============================] - 0s 867us/step - loss: 0.0052 - accuracy: 1.0000 - val_loss: 0.0066 - val_accuracy: 1.0000\n",
      "Epoch 25/50\n",
      "36/36 [==============================] - 0s 757us/step - loss: 0.0051 - accuracy: 1.0000 - val_loss: 0.0065 - val_accuracy: 1.0000\n",
      "Epoch 26/50\n",
      "36/36 [==============================] - 0s 613us/step - loss: 0.0049 - accuracy: 1.0000 - val_loss: 0.0063 - val_accuracy: 1.0000\n",
      "Epoch 27/50\n",
      "36/36 [==============================] - 0s 674us/step - loss: 0.0048 - accuracy: 1.0000 - val_loss: 0.0062 - val_accuracy: 1.0000\n",
      "Epoch 28/50\n",
      "36/36 [==============================] - 0s 933us/step - loss: 0.0047 - accuracy: 1.0000 - val_loss: 0.0060 - val_accuracy: 1.0000\n",
      "Epoch 29/50\n",
      "36/36 [==============================] - 0s 872us/step - loss: 0.0046 - accuracy: 1.0000 - val_loss: 0.0058 - val_accuracy: 1.0000\n",
      "Epoch 30/50\n",
      "36/36 [==============================] - 0s 934us/step - loss: 0.0045 - accuracy: 1.0000 - val_loss: 0.0058 - val_accuracy: 1.0000\n",
      "Epoch 31/50\n",
      "36/36 [==============================] - 0s 915us/step - loss: 0.0044 - accuracy: 1.0000 - val_loss: 0.0056 - val_accuracy: 1.0000\n",
      "Epoch 32/50\n",
      "36/36 [==============================] - 0s 1ms/step - loss: 0.0043 - accuracy: 1.0000 - val_loss: 0.0054 - val_accuracy: 1.0000\n",
      "Epoch 33/50\n",
      "36/36 [==============================] - 0s 579us/step - loss: 0.0042 - accuracy: 1.0000 - val_loss: 0.0053 - val_accuracy: 1.0000\n",
      "Epoch 34/50\n",
      "36/36 [==============================] - 0s 881us/step - loss: 0.0041 - accuracy: 1.0000 - val_loss: 0.0052 - val_accuracy: 1.0000\n",
      "Epoch 35/50\n",
      "36/36 [==============================] - 0s 987us/step - loss: 0.0040 - accuracy: 1.0000 - val_loss: 0.0050 - val_accuracy: 1.0000\n",
      "Epoch 36/50\n",
      "36/36 [==============================] - 0s 856us/step - loss: 0.0039 - accuracy: 1.0000 - val_loss: 0.0050 - val_accuracy: 1.0000\n",
      "Epoch 37/50\n",
      "36/36 [==============================] - 0s 830us/step - loss: 0.0038 - accuracy: 1.0000 - val_loss: 0.0048 - val_accuracy: 1.0000\n",
      "Epoch 38/50\n",
      "36/36 [==============================] - 0s 832us/step - loss: 0.0037 - accuracy: 1.0000 - val_loss: 0.0047 - val_accuracy: 1.0000\n",
      "Epoch 39/50\n",
      "36/36 [==============================] - 0s 772us/step - loss: 0.0036 - accuracy: 1.0000 - val_loss: 0.0046 - val_accuracy: 1.0000\n",
      "Epoch 40/50\n",
      "36/36 [==============================] - 0s 847us/step - loss: 0.0036 - accuracy: 1.0000 - val_loss: 0.0045 - val_accuracy: 1.0000\n",
      "Epoch 41/50\n",
      "36/36 [==============================] - 0s 1ms/step - loss: 0.0035 - accuracy: 1.0000 - val_loss: 0.0044 - val_accuracy: 1.0000\n",
      "Epoch 42/50\n",
      "36/36 [==============================] - 0s 901us/step - loss: 0.0034 - accuracy: 1.0000 - val_loss: 0.0043 - val_accuracy: 1.0000\n",
      "Epoch 43/50\n",
      "36/36 [==============================] - 0s 1ms/step - loss: 0.0033 - accuracy: 1.0000 - val_loss: 0.0043 - val_accuracy: 1.0000\n",
      "Epoch 44/50\n",
      "36/36 [==============================] - 0s 1ms/step - loss: 0.0033 - accuracy: 1.0000 - val_loss: 0.0042 - val_accuracy: 1.0000\n",
      "Epoch 45/50\n",
      "36/36 [==============================] - 0s 1ms/step - loss: 0.0032 - accuracy: 1.0000 - val_loss: 0.0041 - val_accuracy: 1.0000\n",
      "Epoch 46/50\n",
      "36/36 [==============================] - 0s 731us/step - loss: 0.0031 - accuracy: 1.0000 - val_loss: 0.0040 - val_accuracy: 1.0000\n",
      "Epoch 47/50\n",
      "36/36 [==============================] - 0s 816us/step - loss: 0.0031 - accuracy: 1.0000 - val_loss: 0.0039 - val_accuracy: 1.0000\n",
      "Epoch 48/50\n",
      "36/36 [==============================] - 0s 626us/step - loss: 0.0030 - accuracy: 1.0000 - val_loss: 0.0038 - val_accuracy: 1.0000\n",
      "Epoch 49/50\n",
      "36/36 [==============================] - 0s 734us/step - loss: 0.0030 - accuracy: 1.0000 - val_loss: 0.0038 - val_accuracy: 1.0000\n",
      "Epoch 50/50\n",
      "36/36 [==============================] - 0s 830us/step - loss: 0.0029 - accuracy: 1.0000 - val_loss: 0.0037 - val_accuracy: 1.0000\n"
     ]
    }
   ],
   "source": [
    "#Training the model and predicting \n",
    "hist=model.fit(X_train, y_train,  batch_size=5,\n",
    "                     epochs=50, verbose=1, validation_split=0.1)\n",
    "\n"
   ]
  },
  {
   "cell_type": "code",
   "execution_count": 15,
   "metadata": {},
   "outputs": [
    {
     "name": "stdout",
     "output_type": "stream",
     "text": [
      "Train on 36 samples, validate on 5 samples\n",
      "Epoch 1/20\n",
      "36/36 [==============================] - 0s 528us/step - loss: 0.0029 - accuracy: 1.0000 - val_loss: 0.0036 - val_accuracy: 1.0000\n",
      "Epoch 2/20\n",
      "36/36 [==============================] - 0s 452us/step - loss: 0.0028 - accuracy: 1.0000 - val_loss: 0.0036 - val_accuracy: 1.0000\n",
      "Epoch 3/20\n",
      "36/36 [==============================] - 0s 843us/step - loss: 0.0028 - accuracy: 1.0000 - val_loss: 0.0035 - val_accuracy: 1.0000\n",
      "Epoch 4/20\n",
      "36/36 [==============================] - 0s 1ms/step - loss: 0.0027 - accuracy: 1.0000 - val_loss: 0.0034 - val_accuracy: 1.0000\n",
      "Epoch 5/20\n",
      "36/36 [==============================] - 0s 683us/step - loss: 0.0027 - accuracy: 1.0000 - val_loss: 0.0033 - val_accuracy: 1.0000\n",
      "Epoch 6/20\n",
      "36/36 [==============================] - 0s 570us/step - loss: 0.0026 - accuracy: 1.0000 - val_loss: 0.0033 - val_accuracy: 1.0000\n",
      "Epoch 7/20\n",
      "36/36 [==============================] - 0s 497us/step - loss: 0.0025 - accuracy: 1.0000 - val_loss: 0.0032 - val_accuracy: 1.0000\n",
      "Epoch 8/20\n",
      "36/36 [==============================] - 0s 1ms/step - loss: 0.0025 - accuracy: 1.0000 - val_loss: 0.0032 - val_accuracy: 1.0000\n",
      "Epoch 9/20\n",
      "36/36 [==============================] - 0s 440us/step - loss: 0.0024 - accuracy: 1.0000 - val_loss: 0.0031 - val_accuracy: 1.0000\n",
      "Epoch 10/20\n",
      "36/36 [==============================] - 0s 721us/step - loss: 0.0024 - accuracy: 1.0000 - val_loss: 0.0030 - val_accuracy: 1.0000\n",
      "Epoch 11/20\n",
      "36/36 [==============================] - 0s 872us/step - loss: 0.0024 - accuracy: 1.0000 - val_loss: 0.0030 - val_accuracy: 1.0000\n",
      "Epoch 12/20\n",
      "36/36 [==============================] - 0s 1ms/step - loss: 0.0023 - accuracy: 1.0000 - val_loss: 0.0029 - val_accuracy: 1.0000\n",
      "Epoch 13/20\n",
      "36/36 [==============================] - 0s 457us/step - loss: 0.0023 - accuracy: 1.0000 - val_loss: 0.0029 - val_accuracy: 1.0000\n",
      "Epoch 14/20\n",
      "36/36 [==============================] - 0s 923us/step - loss: 0.0022 - accuracy: 1.0000 - val_loss: 0.0028 - val_accuracy: 1.0000\n",
      "Epoch 15/20\n",
      "36/36 [==============================] - 0s 698us/step - loss: 0.0022 - accuracy: 1.0000 - val_loss: 0.0028 - val_accuracy: 1.0000\n",
      "Epoch 16/20\n",
      "36/36 [==============================] - 0s 1ms/step - loss: 0.0022 - accuracy: 1.0000 - val_loss: 0.0028 - val_accuracy: 1.0000\n",
      "Epoch 17/20\n",
      "36/36 [==============================] - 0s 374us/step - loss: 0.0021 - accuracy: 1.0000 - val_loss: 0.0027 - val_accuracy: 1.0000\n",
      "Epoch 18/20\n",
      "36/36 [==============================] - 0s 734us/step - loss: 0.0021 - accuracy: 1.0000 - val_loss: 0.0027 - val_accuracy: 1.0000\n",
      "Epoch 19/20\n",
      "36/36 [==============================] - 0s 920us/step - loss: 0.0021 - accuracy: 1.0000 - val_loss: 0.0026 - val_accuracy: 1.0000\n",
      "Epoch 20/20\n",
      "36/36 [==============================] - 0s 741us/step - loss: 0.0020 - accuracy: 1.0000 - val_loss: 0.0026 - val_accuracy: 1.0000\n"
     ]
    }
   ],
   "source": [
    "#alternativly  we can train by saving intermidate models\n",
    "checkpoint = ModelCheckpoint('model_elearning{epoch:01d}.hdf5', period=4)\n",
    "hist=model.fit(X_train, y_train,  batch_size=5,\n",
    "                     epochs=20, verbose=1, validation_split=0.1,callbacks=[checkpoint])"
   ]
  },
  {
   "cell_type": "code",
   "execution_count": 18,
   "metadata": {},
   "outputs": [],
   "source": [
    "# to save the model to the disk\n",
    "model.save('model_final.hdf5')"
   ]
  },
  {
   "cell_type": "code",
   "execution_count": 19,
   "metadata": {},
   "outputs": [],
   "source": [
    "# to load them model from disk\n",
    "model_final = load_model('model_elearning8.hdf5')"
   ]
  },
  {
   "cell_type": "code",
   "execution_count": 20,
   "metadata": {},
   "outputs": [
    {
     "name": "stdout",
     "output_type": "stream",
     "text": [
      "              precision    recall  f1-score   support\n",
      "\n",
      "           0       1.00      1.00      1.00         4\n",
      "           1       1.00      1.00      1.00         2\n",
      "           2       1.00      1.00      1.00         5\n",
      "\n",
      "    accuracy                           1.00        11\n",
      "   macro avg       1.00      1.00      1.00        11\n",
      "weighted avg       1.00      1.00      1.00        11\n",
      "\n",
      "[[4 0 0]\n",
      " [0 2 0]\n",
      " [0 0 5]]\n",
      "\r",
      "11/11 [==============================] - 0s 75us/step\n"
     ]
    }
   ],
   "source": [
    "y_pred = model_final.predict(X_test)\n",
    "y_test_class = np.argmax(y_test,axis=1) # convert encoded labels into classes: say [0, 0, 1] -->  [2] i.e posetive\n",
    "y_pred_class = np.argmax(y_pred,axis=1) # convert predicted labels into classes: say [0.00023, 0.923, 0.031] -->  [1] i.e. negative\n",
    "\n",
    "#Accuracy of the predicted values\n",
    "print(classification_report(y_test_class, y_pred_class)) # Precision , Recall, F1-Score & Support\n",
    "cm = confusion_matrix(y_test_class, y_pred_class)\n",
    "print(cm)\n",
    "score = model.evaluate(X_test, y_test) #evaluate() Returns the loss value &  metrics values for the model in test mode"
   ]
  },
  {
   "cell_type": "code",
   "execution_count": 21,
   "metadata": {},
   "outputs": [
    {
     "data": {
      "text/plain": [
       "array([1, 0, 2, 1, 0, 2, 0, 0, 2, 2, 2])"
      ]
     },
     "execution_count": 21,
     "metadata": {},
     "output_type": "execute_result"
    }
   ],
   "source": [
    "y_test_class"
   ]
  },
  {
   "cell_type": "code",
   "execution_count": 22,
   "metadata": {},
   "outputs": [
    {
     "data": {
      "text/plain": [
       "array([1, 0, 2, 1, 0, 2, 0, 0, 2, 2, 2])"
      ]
     },
     "execution_count": 22,
     "metadata": {},
     "output_type": "execute_result"
    }
   ],
   "source": [
    "y_pred_class"
   ]
  },
  {
   "cell_type": "code",
   "execution_count": 23,
   "metadata": {},
   "outputs": [],
   "source": [
    "from keras.utils.vis_utils import plot_model"
   ]
  },
  {
   "cell_type": "code",
   "execution_count": 24,
   "metadata": {},
   "outputs": [
    {
     "data": {
      "image/png": "[encoded data removed]",
      "text/plain": [
       "<IPython.core.display.Image object>"
      ]
     },
     "execution_count": 24,
     "metadata": {},
     "output_type": "execute_result"
    }
   ],
   "source": [
    "plot_model(model, to_file='model_plot.png', show_shapes=True, show_layer_names=True)"
   ]
  },
  {
   "cell_type": "code",
   "execution_count": 25,
   "metadata": {},
   "outputs": [
    {
     "data": {
      "image/png": "[encoded data removed]",
      "text/plain": [
       "<matplotlib.figure.Figure at 0x7fde5c6e3cf8>"
      ]
     },
     "metadata": {
      "needs_background": "light"
     },
     "output_type": "display_data"
    }
   ],
   "source": [
    "    epochs=[1,2,3,4,5,6,7,8,9,10,11,12,13,14,15,16,17,18,19,20]\n",
    "    train_loss=hist.history['loss']\n",
    "    val_loss=hist.history['val_loss']\n",
    "    #print(train_loss)\n",
    "    #print(val_loss)\n",
    "    plt.title('train_loss vs val_loss')\n",
    "    plt.rcParams['figure.facecolor'] = 'White'\n",
    "    plt.grid(True)\n",
    "    plt.plot(epochs, train_loss, 'b--')\n",
    "    plt.plot(epochs, val_loss, 'r--')\n",
    "    plt.legend(['train_loss', 'val_loss'], loc='upper right')\n",
    "    plt.xlabel('Number of Epochs')\n",
    "    plt.ylabel('Loss')\n",
    "    plt.show()"
   ]
  },
  {
   "cell_type": "code",
   "execution_count": 26,
   "metadata": {},
   "outputs": [],
   "source": [
    "train_loss=hist.history['loss']"
   ]
  },
  {
   "cell_type": "code",
   "execution_count": 27,
   "metadata": {},
   "outputs": [
    {
     "data": {
      "text/plain": [
       "[0.00285475529340652,\n",
       " 0.0028054076747644607,\n",
       " 0.0027678250496844864,\n",
       " 0.002700215562476337,\n",
       " 0.0026503586074492582,\n",
       " 0.0025986353955684332,\n",
       " 0.002544636327204191,\n",
       " 0.0024982072600828863,\n",
       " 0.0024487714431921225,\n",
       " 0.0023962680097611155,\n",
       " 0.00235700005557899,\n",
       " 0.002320150619804432,\n",
       " 0.0022811945252922466,\n",
       " 0.0022400593598932675,\n",
       " 0.002201617131908683,\n",
       " 0.002166343029885967,\n",
       " 0.002127323143415399,\n",
       " 0.002097702375875896,\n",
       " 0.0020637240440919413,\n",
       " 0.0020366706450861078]"
      ]
     },
     "execution_count": 27,
     "metadata": {},
     "output_type": "execute_result"
    }
   ],
   "source": [
    "train_loss"
   ]
  },
  {
   "cell_type": "code",
   "execution_count": null,
   "metadata": {},
   "outputs": [],
   "source": []
  }
 ],
 "metadata": {
  "kernelspec": {
   "display_name": "Python 2",
   "language": "python",
   "name": "python2"
  },
  "language_info": {
   "codemirror_mode": {
    "name": "ipython",
    "version": 3
   },
   "file_extension": ".py",
   "mimetype": "text/x-python",
   "name": "python",
   "nbconvert_exporter": "python",
   "pygments_lexer": "ipython3",
   "version": "3.5.2"
  }
 },
 "nbformat": 4,
 "nbformat_minor": 4
}
